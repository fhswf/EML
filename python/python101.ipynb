{
 "cells": [
  {
   "cell_type": "markdown",
   "metadata": {},
   "source": [
    "# Einführung in Python"
   ]
  },
  {
   "cell_type": "markdown",
   "metadata": {},
   "source": [
    "## Variablen\n",
    "\n",
    "Python ist fundamental objektorientiert. Das heißt nicht nur, dass Sie in Python objektorientiert programmieren können. Es gilt auch der Leitsatz: *Alles in Python ist ein Objekt*. Also selbst grundlegende Datentypen wie `int`, `float` und `str`, sowie Funktionen sind Objekte. Daher sind Variablen in Python immer Referenzen auf Objekte.\n",
    "\n",
    "Wie viele andere Skriptprachen auch, ist Python dynamisch typisiert. Das bedeutet, dass Sie keine Typangaben bei der Definition einer Variablen angeben müssen. Python leitet automatisch den passenden Typ ab, bzw. es wählt den \"am besten passenden\" Typ aus.\n",
    "\n",
    "Sie können daher Variablen in Python wie folgt definieren:"
   ]
  },
  {
   "cell_type": "code",
   "execution_count": 1,
   "metadata": {},
   "outputs": [],
   "source": [
    "a = 42\n",
    "b = 1.23\n",
    "ab = 'Hallo'"
   ]
  },
  {
   "cell_type": "markdown",
   "metadata": {},
   "source": [
    "Für Variablennamen gelten die Gleichen Regeln wie für die Bezeichner in C/C++. Variablen müssen mit einem Buchstaben oder Unterstrich beginnen und können sich ab dem 2. Zeichen aus einer beliebigen Folge von Buchstaben, Ziffern und Unterstrichen zusammensetzen.\n",
    "\n",
    "Es gibt allerdings einige Konventionen für die Wahl von Bezeichnern. So gelten Variablen, die mit 2 Unterstrichen beginnen als *privat*, Namen mit 2 Unterstrichen am Anfang und am Ende sind für spezielle Attribute und Methoden reserviert (\"*magic methods*\")."
   ]
  },
  {
   "cell_type": "markdown",
   "metadata": {},
   "source": [
    "Die skalaren, also elementare oder nicht-zusammengesetzten Datentypen in Python sind:\n",
    "- `int` Ganze Zahlen\n",
    "- `float` Fließkommazahlen mit 64-bit Präzision\n",
    "- `complex` Komplexe Zahlen\n",
    "- `bool` Bool'scher Datentyp mit den Werten `True` und `False`\n",
    "- `NoneType` signalisiert das Nicht-Vorhandensein einer Referenz, ähnlich zu `NULL` oder `NIL` in anderen Sprachen\n",
    "\n",
    "Die Typen `str` für Zeichenketten sowie `bytes` für Folgen von 8-bit (vorzeichenlosen) Werten (zum Verarbeiten von Binärdaten) gehören zu den *Sequentiallen Datentypen*."
   ]
  },
  {
   "cell_type": "markdown",
   "metadata": {},
   "source": [
    "## Operationen\n",
    "\n",
    "Für die meisten Datentypen existieren die bekannten Operationen (`+`, `-`, `*`, `/`) mit der üblichen Bedeutung. Daneben gibt es noch den Operator `//`, für die ganzzahlige Division, den Modulo-Operator `%` und den Potenz-Operator `**`."
   ]
  },
  {
   "cell_type": "code",
   "execution_count": 2,
   "metadata": {},
   "outputs": [
    {
     "name": "stdout",
     "output_type": "stream",
     "text": [
      "3.23 7.0 Hallo Welt 256\n"
     ]
    }
   ],
   "source": [
    "a = 2 + 1.23\n",
    "b = 22.2//3\n",
    "c = \"Hallo \" + \"Welt\"\n",
    "d = 2**8\n",
    "print(a, b, c, d)"
   ]
  },
  {
   "cell_type": "markdown",
   "metadata": {},
   "source": [
    "Die `print` Funktion, wie oben verwendet, benötigt man ziemlich häufig.\n",
    "Ruft man sie mit einer (beliebigen) Folge von Parametern aus, so wird für jeden Variable, entsprechend ihres Typs, eine passende *print* Methode aufgerufen. In Python heißt die Methode `__str__()`, sie entspricht in etwa der `toString()`-Methode aus Java.\n",
    "\n",
    "Um eine formatierte Ausgabe zu erhalten, kann man einen Format-String mit Platzhaltern angeben, ähnlich wie bei der `printf`-Funktion aus C. Über den Modulo-Operator können dann die Variablen angegeben werden, die an den Platzhaltern eingesetzt werden sollen.\n",
    "Für unser Beispiel oben sieht das dann z.B. so aus:"
   ]
  },
  {
   "cell_type": "code",
   "execution_count": 3,
   "metadata": {},
   "outputs": [
    {
     "name": "stdout",
     "output_type": "stream",
     "text": [
      "a = 3.230000, b = 7, c = Hallo Welt, d = 256\n"
     ]
    }
   ],
   "source": [
    "print(\"a = %f, b = %d, c = %s, d = %s\" % (a, b, c, d))"
   ]
  },
  {
   "cell_type": "markdown",
   "metadata": {},
   "source": [
    "Python ist stark typisiert. D.h., dass Variablen immer einen eindeutigen Typ haben und an keiner Stelle eine implizite Typumwandlung stattfinden kann. Jede Änderung des Typs erfordert eine explizite Typkonvertierung. Ein Ausdruck wie `\"Hallo\"+2` kann nicht ausgewertet werden, da die `+`-Operation für einen String und einen Integer nicht definiert ist.\n",
    "In diesem Fall kann man eine Typenwandlung, z.B. von `int` nach `str` vornehmen:"
   ]
  },
  {
   "cell_type": "code",
   "execution_count": 4,
   "metadata": {},
   "outputs": [
    {
     "data": {
      "text/plain": [
       "'Hallo2'"
      ]
     },
     "execution_count": 4,
     "metadata": {},
     "output_type": "execute_result"
    }
   ],
   "source": [
    "\"Hallo\" + str(2)"
   ]
  },
  {
   "cell_type": "markdown",
   "metadata": {},
   "source": [
    "## Sequentielle Datentypen\n",
    "\n",
    "Unter sequenziellen Datentypen wird eine Klasse von Datentypen zusammengefasst, die Folgen von **gleichartigen oder verschiedenen Elementen** verwalten.\n",
    "In Listen und Tupel können beliebige Folgen von Daten abgelegt sein. Die gespeicherten Elemente haben eine definierte Reihenfolge und man kann über eindeutige Indizes auf sie zugreifen. Listen sind veränderbar, d.h., man kann einzelne Elemente  ändern, löschen oder hinzufügen. Tupel sind nicht veränderbar. Das bedeutet, bei jeder Änderung wird ein komplett neues Objekt mit den geänderten Elmenten angelegt."
   ]
  },
  {
   "cell_type": "code",
   "execution_count": 5,
   "metadata": {},
   "outputs": [
    {
     "name": "stdout",
     "output_type": "stream",
     "text": [
      "Liste a = [3.23, 7.0, 'Hallo Welt', 256]\n",
      "Tupel b =(3.23, 7.0, 'Hallo Welt', 256)\n",
      "Das dritte Element von b ist Hallo Welt\n",
      "Gleiche Referenz? False. Gleicher Inhalt? True\n"
     ]
    }
   ],
   "source": [
    "a = [3.23, 7.0, \"Hallo Welt\", 256]\n",
    "b = (3.23, 7.0, \"Hallo Welt\", 256)\n",
    "print(\"Liste a = %s\\nTupel b =%s\" % (a,b) )\n",
    "print(\"Das dritte Element von b ist \" + b[2])\n",
    "print(\"Gleiche Referenz? %s. Gleicher Inhalt? %s\" % (a == b, set(a)==set(b)))"
   ]
  },
  {
   "cell_type": "markdown",
   "metadata": {},
   "source": [
    "Das obige Beispiel bringt uns direkt zum nächsten Datentyp, den Mengen (oder engl. *sets*).\n",
    "Wie bei den Mengen aus der Mathematik kann ein set in Python jedes Objekt nur einmal enthalten.\n",
    "Wenn wir also aus der Liste [4,4,4,4,3,3,3,2,2,1] eine Menge machen, hat diese folgende Elemente:"
   ]
  },
  {
   "cell_type": "code",
   "execution_count": 6,
   "metadata": {},
   "outputs": [
    {
     "data": {
      "text/plain": [
       "{1, 2, 3, 4}"
      ]
     },
     "execution_count": 6,
     "metadata": {},
     "output_type": "execute_result"
    }
   ],
   "source": [
    "set([4,4,4,4,3,3,3,2,2,1])"
   ]
  },
  {
   "cell_type": "markdown",
   "metadata": {},
   "source": [
    "Die elemente tauchen nun nicht nur einmalig auf, sondern sie sind auch umsortiert worden.\n",
    "Man darf sich hier nicht täuschen lassen, die Elemente einer Menge sind immer unsortiert.\n",
    "D.h., man kann keine spezielle Sortierung erwarten, auch wenn die Ausgabe in manchen Fällen danach aussieht."
   ]
  },
  {
   "cell_type": "markdown",
   "metadata": {},
   "source": [
    "Ein weitere sequentieller Datentyp sind Dictionaries (die deutsche Übersetzung *Wörterbücher* passt hier nicht so gut).\n",
    "Diectionaries sind eine Menge von *Schlüssel-Wert-Paaren*.\n",
    "Das bedeutet, dass jeder Wert im Dictionary unter einem frei wählbaren Schlüssel abgelegt ist, und auch über diesen Schlüssel zugegriffen werden kann."
   ]
  },
  {
   "cell_type": "code",
   "execution_count": 7,
   "metadata": {},
   "outputs": [
    {
     "name": "stdout",
     "output_type": "stream",
     "text": [
      "Paris\n",
      "Washington, D.C.\n"
     ]
    }
   ],
   "source": [
    "haupstaedte = {\"DE\" : \"Berlin\", \"FR\" : \"Paris\", \"US\" : \"Washington\", \"CH\" : \"Zurich\"}\n",
    "print(haupstaedte[\"FR\"])\n",
    "haupstaedte[\"US\"] = \"Washington, D.C.\"\n",
    "print(haupstaedte[\"US\"])"
   ]
  },
  {
   "cell_type": "markdown",
   "metadata": {},
   "source": [
    "## Funktionen \n",
    "\n",
    "Funktionen in Python werden über das Schlüsselwort `def` definiert. Die Syntax einer Funktions-Definition sieht folgendermaßen aus:\n",
    "\n",
    "```python\n",
    "def myfunc(arg1, arg2,... argN):  \n",
    "  '''Dokumentation'''  \n",
    "\n",
    "  #Programmcode  \n",
    "\n",
    "  return <Rückgabewert>  \n",
    "```\n",
    "\n",
    "Hier wird die Funktion \"myfunc\" definiert, welche mit den Parametern \"arg1,arg2,....argN\" aufgerufen werden kann.\n",
    "\n",
    "Wir sehen hier auch ein weiteres Konzept von Python, das wir bisher noch nicht angesprochen haben. Die Strukturierung von Code in Blöcke erfolgt über **Einrückungen**.\n",
    "Für eine Funktion bedeutet das, dass der Code des Funktionskörpers um eine Stufe gegenüber der Funktionsdefinition eingerückt sein muss. Wenn der Funktionskörpers weitere Kontrollstrukturen enthält, z.B. Schleifen oder Bedingungen, sind weitere Einrückungen nötig. Betrachten Sie folgendes Beispiel:"
   ]
  },
  {
   "cell_type": "code",
   "execution_count": 8,
   "metadata": {},
   "outputs": [
    {
     "name": "stdout",
     "output_type": "stream",
     "text": [
      "Drei\n",
      "Eins\n",
      "Zwei\n"
     ]
    }
   ],
   "source": [
    "def gib_was_aus():\n",
    "    print(\"Eins\")\n",
    "    print(\"Zwei\")\n",
    "print(\"Drei\")\n",
    "gib_was_aus()"
   ]
  },
  {
   "cell_type": "markdown",
   "metadata": {},
   "source": [
    "Hier wird zuerst eine Funktion `gib_was_aus` definiert. Die Anweisung `print(\"Drei\")` ist nicht mehr eingerückt, gehört daher nicht mehr zur Funktion."
   ]
  },
  {
   "cell_type": "markdown",
   "metadata": {},
   "source": [
    "Funktionen können fast überall definiert sein, also z.B. auch innerhalb von anderen Funktionen.\n",
    "Rückgaben erfolgen, wie auch in anderen Programmiersprachen üblich mit den Schlüsselwort `return`.\n",
    "Falls mehrere Elemente zurückgegeben werden sollen, können diese z.B. in ein Tupel gepackt werden:"
   ]
  },
  {
   "cell_type": "code",
   "execution_count": 9,
   "metadata": {},
   "outputs": [
    {
     "name": "stdout",
     "output_type": "stream",
     "text": [
      "2 2 AB\n"
     ]
    }
   ],
   "source": [
    "def inc(a, b, c):\n",
    "    return a+1, b+1, c+\"B\"\n",
    "a=b=1\n",
    "c=\"A\"\n",
    "a,b,c = inc(a,b,c)\n",
    "print(a,b,c)"
   ]
  },
  {
   "cell_type": "markdown",
   "metadata": {},
   "source": [
    "## Verzweigungen\n",
    "\n",
    "Wir haben bisher noch keine Kontrollstrukturen, also Verzweigungen oder Schleifen angesprochen.\n",
    "Eine Bedingung oder Verzeigung funktioniert in Python (wie üblich) über ein `if`-`else`-Konstrukt.\n",
    "Auch hier werden zur Strukturierung der Blöcke Einrückungen benutzt."
   ]
  },
  {
   "cell_type": "code",
   "execution_count": 10,
   "metadata": {},
   "outputs": [
    {
     "name": "stdout",
     "output_type": "stream",
     "text": [
      "a ist nicht Null\n"
     ]
    }
   ],
   "source": [
    "a=2\n",
    "if a==0:\n",
    "    print(\"a ist Null\")\n",
    "else:\n",
    "    print(\"a ist nicht Null\")\n"
   ]
  },
  {
   "cell_type": "markdown",
   "metadata": {},
   "source": [
    "Um tiefe Verschachtelungen zu vermeiden, gibt es noch ein `elif`-Anweisung:"
   ]
  },
  {
   "cell_type": "code",
   "execution_count": 11,
   "metadata": {},
   "outputs": [
    {
     "name": "stdout",
     "output_type": "stream",
     "text": [
      "a ist positiv\n"
     ]
    }
   ],
   "source": [
    "a=2\n",
    "if a<0:\n",
    "    print(\"a ist negativ\")\n",
    "elif a>0:\n",
    "    print(\"a ist positiv\")\n",
    "else:\n",
    "    print(\"a ist Null\")"
   ]
  },
  {
   "cell_type": "markdown",
   "metadata": {},
   "source": [
    "## Schleifen\n",
    "\n",
    "In Python gibt es die Schleifentypen, `while` und `for`, wobei letztere eine etwas ungewöhnliche Syntax hat.\n",
    "Die `while`-Schleife hingegen wird wie in vielen bekannten Programmiersprachen benutzt:"
   ]
  },
  {
   "cell_type": "code",
   "execution_count": 12,
   "metadata": {},
   "outputs": [
    {
     "name": "stdout",
     "output_type": "stream",
     "text": [
      "5\n",
      "3\n",
      "1\n"
     ]
    }
   ],
   "source": [
    "i = 5\n",
    "while i>0:\n",
    "    print(i)\n",
    "    i -= 2"
   ]
  },
  {
   "cell_type": "markdown",
   "metadata": {},
   "source": [
    "Anders als z.B. in C/C++ oder Java läuft eine `for`-Schleife in Python nicht über eine Zählvariable, sondern über *die Elemente eines iterierbaren Datentyps*.\n",
    "Einige Beispiele für iterierbaren Datentypen haben wir schon als sequentielle Datentypen kennen gelernt.\n",
    "Wir können z.B. mit einer `for`-Schleife alle Elemente eines Dictionaries besuchen:"
   ]
  },
  {
   "cell_type": "code",
   "execution_count": 13,
   "metadata": {},
   "outputs": [
    {
     "name": "stdout",
     "output_type": "stream",
     "text": [
      "Berlin\n",
      "Paris\n",
      "Washington\n",
      "Zurich\n"
     ]
    }
   ],
   "source": [
    "haupstaedte = {\"DE\" : \"Berlin\", \"FR\" : \"Paris\", \"US\" : \"Washington\", \"CH\" : \"Zurich\"}\n",
    "for s in haupstaedte:\n",
    "    print(haupstaedte[s])"
   ]
  },
  {
   "cell_type": "markdown",
   "metadata": {},
   "source": [
    "Wir sehen, dass die Laufvariable hier alle Schlüssel des Dictionaries annimmt. Bei einer Liste wird über alle Werte iteriert:"
   ]
  },
  {
   "cell_type": "code",
   "execution_count": 14,
   "metadata": {},
   "outputs": [
    {
     "name": "stdout",
     "output_type": "stream",
     "text": [
      "3.23\n",
      "7.0\n",
      "Hallo Welt\n",
      "256\n"
     ]
    }
   ],
   "source": [
    "a = [3.23, 7.0, \"Hallo Welt\", 256]\n",
    "for s in a:\n",
    "    print(s)"
   ]
  },
  {
   "cell_type": "markdown",
   "metadata": {},
   "source": [
    "Neben den sequentiellen Datentypen liefern noch sogenannte **Generatoren** Folgen von Werten die iterierbar sind. Der bekannteste iterator ist `range()`.\n",
    "`range` kann mehrere Argumente haben. Ist nur ein Argument `E` angegeben, so läuft der iterator von 0 bis `E-1`.\n",
    "`range(S, E)` läuft von S bis `E-1`, und `range(S, E, K)` läuft von S bis `E-1` mit der Schrittweite `K`"
   ]
  },
  {
   "cell_type": "code",
   "execution_count": 15,
   "metadata": {},
   "outputs": [
    {
     "name": "stdout",
     "output_type": "stream",
     "text": [
      "Ein Parameter: 0 1 2 3 4 \n",
      "Zwei Parameter: 2 3 4 \n",
      "Drei Parameter: 0 2 4 "
     ]
    }
   ],
   "source": [
    "print(\"Ein Parameter:\", end=\" \")\n",
    "for s in range(5): print(s, end=\" \")\n",
    "\n",
    "print(\"\\nZwei Parameter:\", end=\" \")\n",
    "for s in range(2,5): print(s, end=\" \")\n",
    "\n",
    "print(\"\\nDrei Parameter:\", end=\" \")\n",
    "for s in range(0,5,2): print(s, end=\" \")"
   ]
  },
  {
   "cell_type": "markdown",
   "metadata": {},
   "source": [
    "Das zusätzliche Argument `end=\" \"` in den `print`-Anweisungen oben verhindert übrigens einen Zeilenumbruch.\n",
    "Ohne diesen Parameter würden alle Werte in einer Spalter untereinander ausgegeben."
   ]
  },
  {
   "cell_type": "markdown",
   "metadata": {},
   "source": [
    "Damit endet unser erster *Crash Kurs* zum Thema Python. Sie haben nun die wichtigsten Elemente der Python-Syntax gesehen.\n",
    "Natürlich zeigen die Beispiele aber nur einen kleinen Auschnitt, die Sprache ist noch deutlich umfangreicher und viele Konzepte, wie z.B. Klassen und Module, haben wir noch nicht einmal angesprochen.\n",
    "\n",
    "Am besten Sie probieren Python einfach mal aus, indem Sie bestehende Beispiele übernehmen und verändern.\n",
    "Die Python Notebooks sind eine ideale Umgebung dafür.\n",
    "Sie können in den Code-Zellen Programmcode einfach ausprobieren.\n",
    "In den Markdown-Zellen können Sie sich Notizen machen, um Ihren Code zu dokumentieren oder ihre Schritte zu beschreiben."
   ]
  },
  {
   "cell_type": "markdown",
   "metadata": {},
   "source": [
    "# Wissenschaftliches Rechnen mit Numpy, Scipy und Matplotlib"
   ]
  },
  {
   "cell_type": "markdown",
   "metadata": {},
   "source": [
    "In der Vielzahl der verfügbaren Pakete für numerische Berechnungen mit Python gibt es einige Bibliotheken, die als quasi-Standard die Basis für viele Anwendungen und andere Pakete bilden:\n",
    "\n",
    "NumPy ist die elementare Python-Bibliothek für wissenschaftliches Rechnen. NumPy definiert Objekte für mehrdimensionale Arrays und Matrizen sowie mathematische Grundoperationen auf diesen Objekten. NumPy's \"Datentypen\" sind zwar eingeschränkter als die bekannten sequentiellen Typen in Python (list, tuple, etc.), dafür sind die Daten aber kompakter im Hauptspeicher abgelegt, so dass Operationen auf mehrdimensionalen Arrays effizienter durchgeführt werden können. Für Vektor- und Matrix-Operationen besitzt NumPy effiziente Implementierungen und benutzt, sofern auf dem Computer installiert, optimierte Bibliotheken für Lineare Algebra (BLAS und LAPACK)\n",
    "\n",
    "SciPy ist eine Bibliothek von Mathematischen Algorithmen die größtenteils auf NumPy aufbauen. SciPy ist sehr umfangreich und enthält unter anderem Module zur numerischen Berechnung von Integralen, zum Lösen von Differentialgleichungen, zur Berechnung von Optimierungsproblemen, zur digitalen Signalverarbeitung und zur Datenvisualisierung.\n",
    "\n",
    "Matplotlib ist die Standard-Bibliothek zum Erstellen von (mathematischen) Diagrammen. Sie Syntax von matplotlib orientiert sich an den Diagramm-Funktionen von Matlab was Entwicklern den Umstieg von dem kommerziellen Tool auf Python deutlich erleichtert.\n"
   ]
  },
  {
   "cell_type": "code",
   "execution_count": 1,
   "metadata": {},
   "outputs": [],
   "source": [
    "import numpy as np\n",
    "import matplotlib as mpl\n",
    "import matplotlib.pyplot as plt\n",
    "%matplotlib inline\n",
    "#%matplotlib notebook"
   ]
  },
  {
   "cell_type": "markdown",
   "metadata": {},
   "source": [
    "Die obigen `import` Anweisungen sind _boilerplate code_, also ein Textbaustein, den Sie immer in gleicher Form verwenden, wenn Sie mit _numpy_ und _matplotlib_ arbeiten. Auch die Abkürzungen der Modulnamen haben sich in dieser Form etabliert.\n",
    "\n",
    "`%matplotlib` hingegen ist eine _magic function_ in ipython. Mit diesen Funktionen lassen sich generelle Einstellungen für die interaktive shell vornehmen. Mit dem Parameter `inline` stellt man ein, das die Grafiken im interaktiven Modus direkt unter dem Code dargestellt werden. Die Option `notebook` ist eine erweiterte Variante mit interaktiven Elementen für Python Notebooks."
   ]
  },
  {
   "cell_type": "markdown",
   "metadata": {},
   "source": [
    "## NumPy"
   ]
  },
  {
   "cell_type": "markdown",
   "metadata": {},
   "source": [
    "### Arrays\n",
    "\n",
    "Sie werden schnell feststellen, dass Arrays, bzw. Matrizen bei Algorithmen für das Maschinelle Lernen allgegenwärtig sind.\n",
    "In NumPy werden n-dimensionale Arrays den Datentyp `ndarray` abgebildet. Wenn die NumPy-Bibliothek mittels `import numpy as np` eingebunden haben, können Sie ein NumPy Array mit der Funktion `np.array()` anlegen:"
   ]
  },
  {
   "cell_type": "code",
   "execution_count": 2,
   "metadata": {},
   "outputs": [
    {
     "name": "stdout",
     "output_type": "stream",
     "text": [
      "[1 2 3] <class 'numpy.ndarray'>\n"
     ]
    }
   ],
   "source": [
    "x = np.array([1,2,3])\n",
    "print(x, type(x))"
   ]
  },
  {
   "cell_type": "markdown",
   "metadata": {},
   "source": [
    "Es gibt auch den Datentyp `matrix` in NumPy. Dieser Typ ist von `ndarray` abgeleiteten.\n",
    "Matrizen haben immer 2-dimensionale Struktur und Operatoren funktionieren etwas anders als bei \"normalen\" NumPy Arrays.\n",
    "Um Missverständnisse zu vermeiden, werden wir im folgenden vornehmlich den Typ `ndarray` benutzen."
   ]
  },
  {
   "cell_type": "markdown",
   "metadata": {},
   "source": [
    "Ein `ndarray` kann aus Folgen von Zahlen gebildet werden. Dies sind üblicherweise Tupel oder Listen. Die Dokumentation zur Funktion `array` sagt, dass ein *Array-artiger* Parameter übergeben werden soll. Es ist also so, dass alle Objekte, *die NumPy zu einem Array konvertieren kann*, an dieser Stelle Funktionieren:"
   ]
  },
  {
   "cell_type": "code",
   "execution_count": 3,
   "metadata": {
    "scrolled": true
   },
   "outputs": [
    {
     "name": "stdout",
     "output_type": "stream",
     "text": [
      "a: [1 7 1 2]\n",
      "b: [1 7 1 2]\n"
     ]
    }
   ],
   "source": [
    "a = np.array([1, 7, 1, 2])\n",
    "b = np.array((1, 7, 1, 2))\n",
    "print(\"a: %s\" % a)\n",
    "print(\"b: %s\" % b)"
   ]
  },
  {
   "cell_type": "markdown",
   "metadata": {},
   "source": [
    "Auf einzelne Elemente von eindimensionalen Arrays greift man über einen \"einfachen\" Index in `[]`-Klammern zu.\n",
    "Bei mehrdimensionalen Arrays werden die Zugriffe etwas komplizierter."
   ]
  },
  {
   "cell_type": "code",
   "execution_count": 4,
   "metadata": {},
   "outputs": [
    {
     "data": {
      "text/plain": [
       "1"
      ]
     },
     "execution_count": 4,
     "metadata": {},
     "output_type": "execute_result"
    }
   ],
   "source": [
    "b[2]"
   ]
  },
  {
   "cell_type": "markdown",
   "metadata": {},
   "source": [
    "NumPy liefert auch einige Funktionen, um spezielle Arrays zu erzeugen. Über `arange` können z.B. Arrays über Zahlenfolgen gebildet werden:"
   ]
  },
  {
   "cell_type": "code",
   "execution_count": 5,
   "metadata": {},
   "outputs": [
    {
     "data": {
      "text/plain": [
       "array([0, 1, 2, 3, 4, 5, 6, 7])"
      ]
     },
     "execution_count": 5,
     "metadata": {},
     "output_type": "execute_result"
    }
   ],
   "source": [
    "a = np.arange(8)\n",
    "a"
   ]
  },
  {
   "cell_type": "markdown",
   "metadata": {},
   "source": [
    "Die Länge eines Arrays erhält man über das Attribut `size`:\n"
   ]
  },
  {
   "cell_type": "code",
   "execution_count": 6,
   "metadata": {},
   "outputs": [
    {
     "data": {
      "text/plain": [
       "8"
      ]
     },
     "execution_count": 6,
     "metadata": {},
     "output_type": "execute_result"
    }
   ],
   "source": [
    "a.size"
   ]
  },
  {
   "cell_type": "markdown",
   "metadata": {},
   "source": [
    "Die Dimension wiederum, kann man mit dem Attribut `ndim` abfragen. Eindimensionalen Arrays haben die Dimension 1. Wir werden diese Arrays von nun an auch **Vektoren** nennen. Für zweidimensionale Arrays verwenden wir auch den Begriff **Matrix**."
   ]
  },
  {
   "cell_type": "code",
   "execution_count": 7,
   "metadata": {},
   "outputs": [
    {
     "data": {
      "text/plain": [
       "1"
      ]
     },
     "execution_count": 7,
     "metadata": {},
     "output_type": "execute_result"
    }
   ],
   "source": [
    "a.ndim"
   ]
  },
  {
   "cell_type": "markdown",
   "metadata": {},
   "source": [
    "Als eine Art Kombination der Attribute `size` und `ndim` kann man `shape` verstehen.\n",
    "Dieses Attribut liefert ein Tupel mit `ndim`-Elementen zurück, wobei das $i$-te Element die Größe der $i$-ten Dimension angibt. (Vielleicht fragen Sie sich, warum in dem Tupel `(8,)` das einzelne Komma steht? Das ist dazu da, die Schriftweise eindeutig zu halten. Ansonsten könnte man die Ausgabe mit einem `int` in Klammern verwechseln.)"
   ]
  },
  {
   "cell_type": "code",
   "execution_count": 8,
   "metadata": {},
   "outputs": [
    {
     "data": {
      "text/plain": [
       "(8,)"
      ]
     },
     "execution_count": 8,
     "metadata": {},
     "output_type": "execute_result"
    }
   ],
   "source": [
    "a.shape"
   ]
  },
  {
   "cell_type": "markdown",
   "metadata": {},
   "source": [
    "Die Indizierung von NumPy Arrays beginnt immer bei der $0$.\n",
    "Neben der Adressierung von konkreten Indizes gibt es noch weitere Zugriffsregeln:"
   ]
  },
  {
   "cell_type": "code",
   "execution_count": 9,
   "metadata": {},
   "outputs": [
    {
     "name": "stdout",
     "output_type": "stream",
     "text": [
      "0\n",
      "7\n",
      "[2 3 4 5 6]\n",
      "[2 4 6]\n",
      "[0 3 6]\n"
     ]
    }
   ],
   "source": [
    "print(a[0])     # Das erste Element\n",
    "print(a[-1])    # Das letzte Element\n",
    "print(a[2:7])   # Die Elemente von Index 2 bis 7 (ausschließlich)\n",
    "print(a[2:7:2]) # Wie oben, nur mit einer Schrittweite von 2\n",
    "print(a[::3])   # Alle Elemente mit einer Schrittweite von 3"
   ]
  },
  {
   "cell_type": "markdown",
   "metadata": {},
   "source": [
    "### Mehrdimensionale Arrays\n",
    "\n",
    "Wie schon angesprochen, ist `ndarray` ein mehrdimensionaler Datentyp. Sie können also ohne Weiteres NumPy Arrays aus verschachtelten Listen oder Array erzeugen:"
   ]
  },
  {
   "cell_type": "code",
   "execution_count": 10,
   "metadata": {},
   "outputs": [
    {
     "data": {
      "text/plain": [
       "array([[ 0,  1,  2,  3,  4,  5],\n",
       "       [ 6,  7,  8,  9, 10, 11],\n",
       "       [12, 13, 14, 15, 16, 17],\n",
       "       [18, 19, 20, 21, 22, 23]])"
      ]
     },
     "execution_count": 10,
     "metadata": {},
     "output_type": "execute_result"
    }
   ],
   "source": [
    "a = np.arange(6)\n",
    "b = np.arange(6,12)\n",
    "c = np.arange(12,18)\n",
    "d = np.arange(18,24)\n",
    "A = np.array((a,b,c,d))\n",
    "A"
   ]
  },
  {
   "cell_type": "markdown",
   "metadata": {},
   "source": [
    "Dabei müssen aber immer alle niedrigeren Dimensionen voll besetzt sein, damit `np.array` ein \"echtes\" Array generieren kann:"
   ]
  },
  {
   "cell_type": "code",
   "execution_count": 11,
   "metadata": {},
   "outputs": [
    {
     "data": {
      "text/plain": [
       "array([[ 0,  1,  2,  3,  4,  5],\n",
       "       [ 6,  7,  8,  9, 10, 11],\n",
       "       [12, 13, 14, 15, 16, 17],\n",
       "       [18, 19, 20, 21, 22, 23]])"
      ]
     },
     "execution_count": 11,
     "metadata": {},
     "output_type": "execute_result"
    }
   ],
   "source": [
    "A = np.array([[ 0,  1,  2,  3,  4,  5],\n",
    "       [ 6,  7,  8,  9, 10, 11],\n",
    "       [12, 13, 14, 15, 16, 17],\n",
    "       [18, 19, 20, 21, 22, 23]])\n",
    "A"
   ]
  },
  {
   "cell_type": "markdown",
   "metadata": {},
   "source": [
    "Passen die Größen der einzelnen Vektoren oder Matrizen nicht zusammen, so liefert die Funktion ein vermutlich ungewolltes Resultat. Im folgenden Beispiel, hat die 3. Zeile der Matrix nur 2 Elemente, und nicht 6 wie alle anderen. `np.array` legt daher ein eindimensionales Array mit Listen als Elemente an: "
   ]
  },
  {
   "cell_type": "code",
   "execution_count": 12,
   "metadata": {},
   "outputs": [
    {
     "data": {
      "text/plain": [
       "array([list([0, 1, 2, 3, 4, 5]), list([6, 7, 8, 9, 10, 11]),\n",
       "       list([12, 13]), list([18, 19, 20, 21, 22, 23])], dtype=object)"
      ]
     },
     "execution_count": 12,
     "metadata": {},
     "output_type": "execute_result"
    }
   ],
   "source": [
    "B = np.array([[ 0,  1,  2,  3,  4,  5],\n",
    "       [ 6,  7,  8,  9, 10, 11],\n",
    "       [12, 13],\n",
    "       [18, 19, 20, 21, 22, 23]])\n",
    "B"
   ]
  },
  {
   "cell_type": "markdown",
   "metadata": {},
   "source": [
    "Einzelne Elemente eines mehrdimensionalen `ndarrays` adressieren Sie mit einer Folge von Index-Klammern. `A[3][1]` z.B. liefert das zweite Element der vierten Zeile der Matrix."
   ]
  },
  {
   "cell_type": "code",
   "execution_count": 13,
   "metadata": {},
   "outputs": [
    {
     "data": {
      "text/plain": [
       "19"
      ]
     },
     "execution_count": 13,
     "metadata": {},
     "output_type": "execute_result"
    }
   ],
   "source": [
    "A[3][1]"
   ]
  },
  {
   "cell_type": "markdown",
   "metadata": {},
   "source": [
    "Etwas komplizierter wird es, wenn wir nicht nur auf einzelne Werte, sondern ganze Bereiche einer Matrix zugreifen wollen.\n",
    "Mit `[x:y]` greift man auf die Zeilen $X$ bis einschließlich $y-1$ zu. Der $x$-Wert kann auch weg gelassen werden, `[:2]` liefert z.B. die ersten 2 Zeilen der Matrix"
   ]
  },
  {
   "cell_type": "code",
   "execution_count": 14,
   "metadata": {},
   "outputs": [
    {
     "name": "stdout",
     "output_type": "stream",
     "text": [
      "[[ 0  1  2  3  4  5]\n",
      " [ 6  7  8  9 10 11]\n",
      " [12 13 14 15 16 17]]\n"
     ]
    }
   ],
   "source": [
    "print(A[:3])"
   ]
  },
  {
   "cell_type": "code",
   "execution_count": 15,
   "metadata": {},
   "outputs": [
    {
     "name": "stdout",
     "output_type": "stream",
     "text": [
      "[[ 6  7  8  9 10 11]\n",
      " [12 13 14 15 16 17]]\n"
     ]
    }
   ],
   "source": [
    "print(A[1:3])"
   ]
  },
  {
   "cell_type": "markdown",
   "metadata": {},
   "source": [
    "Auf einzelne Spalten der Matrix greift man über den Komma-Operator:"
   ]
  },
  {
   "cell_type": "code",
   "execution_count": 16,
   "metadata": {},
   "outputs": [
    {
     "name": "stdout",
     "output_type": "stream",
     "text": [
      "[ 3  9 15 21]\n"
     ]
    }
   ],
   "source": [
    "print(A[:,3])"
   ]
  },
  {
   "cell_type": "markdown",
   "metadata": {},
   "source": [
    "Das ist in etwa so zu verstehen, dass das Komma die einzelnen Dimensionen voneinander abgrenzt.\n",
    "Man nimmt also von der ersten Dimension alle Elemente (angegeben durch das Fehlen vonj Grenzen bei dem `:`-Operator) und von der zweiten Dimension nur die \"dritten\".\n",
    "Das folgende Beispiel liefert von den Elementen der dritten Zeile die Elemente im Bereich der zweiten bis dritten Spalte."
   ]
  },
  {
   "cell_type": "code",
   "execution_count": 17,
   "metadata": {},
   "outputs": [
    {
     "name": "stdout",
     "output_type": "stream",
     "text": [
      "[13 14]\n"
     ]
    }
   ],
   "source": [
    "print(A[2,1:3])"
   ]
  },
  {
   "cell_type": "markdown",
   "metadata": {},
   "source": [
    "### Arrays Anlegen"
   ]
  },
  {
   "cell_type": "markdown",
   "metadata": {},
   "source": [
    "Wir haben bereits gesehen, wie man NumPy Arrays mit den Funktionen `array` und `arange` anlegen kann.\n",
    "Es gibt aber noch weitere Methoden, mit denen Arrays angelegt werden können.\n",
    "So kann man z.B. Arrays generieren, die nur aus Nullen oder Einsen bestehen"
   ]
  },
  {
   "cell_type": "code",
   "execution_count": 18,
   "metadata": {},
   "outputs": [
    {
     "data": {
      "text/plain": [
       "array([0., 0., 0., 0., 0., 0., 0., 0., 0.])"
      ]
     },
     "execution_count": 18,
     "metadata": {},
     "output_type": "execute_result"
    }
   ],
   "source": [
    "np.zeros(9)"
   ]
  },
  {
   "cell_type": "code",
   "execution_count": 19,
   "metadata": {},
   "outputs": [
    {
     "data": {
      "text/plain": [
       "array([[1., 1., 1., 1.],\n",
       "       [1., 1., 1., 1.],\n",
       "       [1., 1., 1., 1.],\n",
       "       [1., 1., 1., 1.]])"
      ]
     },
     "execution_count": 19,
     "metadata": {},
     "output_type": "execute_result"
    }
   ],
   "source": [
    "np.ones((4,4))"
   ]
  },
  {
   "cell_type": "markdown",
   "metadata": {},
   "source": [
    "Die Methode `linspace(Start, Ende, Anzahl-Werte)` ist eine Erweiterung von `arange` mit der fortlaufende Folgen von Zahlen generiert werden können. Die Funktion liefert `Anzahl-Werte` Zahlen im Bereich `[Start,Ende]`."
   ]
  },
  {
   "cell_type": "code",
   "execution_count": 20,
   "metadata": {},
   "outputs": [
    {
     "data": {
      "text/plain": [
       "array([-1.        , -0.89473684, -0.78947368, -0.68421053, -0.57894737,\n",
       "       -0.47368421, -0.36842105, -0.26315789, -0.15789474, -0.05263158,\n",
       "        0.05263158,  0.15789474,  0.26315789,  0.36842105,  0.47368421,\n",
       "        0.57894737,  0.68421053,  0.78947368,  0.89473684,  1.        ])"
      ]
     },
     "execution_count": 20,
     "metadata": {},
     "output_type": "execute_result"
    }
   ],
   "source": [
    "x = np.linspace(-1,1,20)\n",
    "x"
   ]
  },
  {
   "cell_type": "markdown",
   "metadata": {},
   "source": [
    "Die Werte steigen bei `linspace` linear an. Falls Sie eine logarithmische Skalierung benötigen, können Sie die Funktion `logspace` verwenden. Dabei ist darauf zu achten, dass `Start` und `Ende` als Exponenten angenommen werden. `np.logspace(0,2,20)` etwa, generiert 20 Werte im Bereich 1 (10 hoch 0) bis 100 (10 hoch 2)."
   ]
  },
  {
   "cell_type": "code",
   "execution_count": 21,
   "metadata": {},
   "outputs": [
    {
     "data": {
      "text/plain": [
       "array([  1.        ,   1.27427499,   1.62377674,   2.06913808,\n",
       "         2.6366509 ,   3.35981829,   4.2813324 ,   5.45559478,\n",
       "         6.95192796,   8.8586679 ,  11.28837892,  14.38449888,\n",
       "        18.32980711,  23.35721469,  29.76351442,  37.92690191,\n",
       "        48.32930239,  61.58482111,  78.47599704, 100.        ])"
      ]
     },
     "execution_count": 21,
     "metadata": {},
     "output_type": "execute_result"
    }
   ],
   "source": [
    "start = 0 # 10^0 = 1\n",
    "ende = 2 # 10^2 = 100\n",
    "n = 20\n",
    "\n",
    "np.logspace(0,2,20)"
   ]
  },
  {
   "cell_type": "markdown",
   "metadata": {},
   "source": [
    "Wir haben gesehen, wie wir eindimensionale Arrays generieren können.\n",
    "Oftmals benötigt man aber mehrdimensionale Arrays.\n",
    "NumPy stellt einige Methoden bereit, um die Struktur von Arrays zu verändern.\n",
    "Die Daten selbst, bleiben von diesen Operationen unverändert.\n",
    "\n",
    "Die wichtigsten Funktionen zum Umstrukturieren von Matrizen sind `reshape` und `flatten`."
   ]
  },
  {
   "cell_type": "code",
   "execution_count": 22,
   "metadata": {},
   "outputs": [
    {
     "name": "stdout",
     "output_type": "stream",
     "text": [
      "b als 4x5 Matrix:\n",
      " [[ 0  1  2  3  4]\n",
      " [ 5  6  7  8  9]\n",
      " [10 11 12 13 14]\n",
      " [15 16 17 18 19]]\n",
      "\n",
      "b als 5x4 Matrix:\n",
      " [[ 0  1  2  3]\n",
      " [ 4  5  6  7]\n",
      " [ 8  9 10 11]\n",
      " [12 13 14 15]\n",
      " [16 17 18 19]]\n"
     ]
    }
   ],
   "source": [
    "a = np.arange(20)\n",
    "b = a.reshape((4,5))\n",
    "print(\"b als 4x5 Matrix:\\n\", b)\n",
    "b = b.reshape((5,4))\n",
    "print(\"\\nb als 5x4 Matrix:\\n\", b)"
   ]
  },
  {
   "cell_type": "markdown",
   "metadata": {},
   "source": [
    "Eine Wichtige Operation in der Linearen Algebra ist das Transponieren von Matrizen. Dabei werden die Spalten und Zeilen der Matrix vertauscht. Die Werte in der Matrix bleiben gleich, werden aber in einer umgedrehten Rehenfolge durchlaufen.\n",
    "In NumPy greift man auf die Transponierte Form eines Arrays über das Attribut `T` zu."
   ]
  },
  {
   "cell_type": "code",
   "execution_count": 23,
   "metadata": {},
   "outputs": [
    {
     "data": {
      "text/plain": [
       "array([[ 0,  4,  8, 12, 16],\n",
       "       [ 1,  5,  9, 13, 17],\n",
       "       [ 2,  6, 10, 14, 18],\n",
       "       [ 3,  7, 11, 15, 19]])"
      ]
     },
     "execution_count": 23,
     "metadata": {},
     "output_type": "execute_result"
    }
   ],
   "source": [
    "b.T"
   ]
  },
  {
   "cell_type": "markdown",
   "metadata": {},
   "source": [
    "Das Umstrukturieren und Transponieren funktioniert auch bei Arrays mit einer Dimension >2 "
   ]
  },
  {
   "cell_type": "code",
   "execution_count": 24,
   "metadata": {},
   "outputs": [
    {
     "data": {
      "text/plain": [
       "array([[[ 0,  1,  2,  3],\n",
       "        [ 4,  5,  6,  7],\n",
       "        [ 8,  9, 10, 11]],\n",
       "\n",
       "       [[12, 13, 14, 15],\n",
       "        [16, 17, 18, 19],\n",
       "        [20, 21, 22, 23]]])"
      ]
     },
     "execution_count": 24,
     "metadata": {},
     "output_type": "execute_result"
    }
   ],
   "source": [
    "a = np.arange(24).reshape((2,3,4))\n",
    "a"
   ]
  },
  {
   "cell_type": "code",
   "execution_count": 25,
   "metadata": {},
   "outputs": [
    {
     "data": {
      "text/plain": [
       "array([[[ 0, 12],\n",
       "        [ 4, 16],\n",
       "        [ 8, 20]],\n",
       "\n",
       "       [[ 1, 13],\n",
       "        [ 5, 17],\n",
       "        [ 9, 21]],\n",
       "\n",
       "       [[ 2, 14],\n",
       "        [ 6, 18],\n",
       "        [10, 22]],\n",
       "\n",
       "       [[ 3, 15],\n",
       "        [ 7, 19],\n",
       "        [11, 23]]])"
      ]
     },
     "execution_count": 25,
     "metadata": {},
     "output_type": "execute_result"
    }
   ],
   "source": [
    "a = a.T\n",
    "a"
   ]
  },
  {
   "cell_type": "markdown",
   "metadata": {},
   "source": [
    "Mit der Methode `flatten` kann man mehrdimensionale Arrys linearisieren."
   ]
  },
  {
   "cell_type": "code",
   "execution_count": 26,
   "metadata": {},
   "outputs": [
    {
     "data": {
      "text/plain": [
       "array([ 0, 12,  4, 16,  8, 20,  1, 13,  5, 17,  9, 21,  2, 14,  6, 18, 10,\n",
       "       22,  3, 15,  7, 19, 11, 23])"
      ]
     },
     "execution_count": 26,
     "metadata": {},
     "output_type": "execute_result"
    }
   ],
   "source": [
    "a.flatten()"
   ]
  },
  {
   "cell_type": "markdown",
   "metadata": {},
   "source": [
    "### Zufallszahlen"
   ]
  },
  {
   "cell_type": "markdown",
   "metadata": {},
   "source": [
    "Zufallszahlen und die Erzeugung von bestimmten Wahrscheinlichkeitsverteilungen ist an vielen Stellen der Mathematik wichtig.\n",
    "Das *Modul* `np.random` liefert Methoden um Zufallswerte und -verteilungen zu generieren.\n",
    "\n",
    "Wie es Ihnen vielleicht aus Sprachen wie C oder Java geläufig ist, köönen Sie auch in Python vor Benutzung des Zufallszahlengenerators mit einem Ausgangswert, dem sogenannten *seed*, initialisieren. Der Zufallszahlengenerator selbst ist  *deterministisch*, d.h., er erzeugt zu einem seed immer die gleiche Folge von Zufallszahlen."
   ]
  },
  {
   "cell_type": "code",
   "execution_count": 27,
   "metadata": {},
   "outputs": [
    {
     "data": {
      "text/plain": [
       "array([4.17022005e-01, 7.20324493e-01, 1.14374817e-04, 3.02332573e-01])"
      ]
     },
     "execution_count": 27,
     "metadata": {},
     "output_type": "execute_result"
    }
   ],
   "source": [
    "np.random.seed(seed=1)\n",
    "np.random.random(4)"
   ]
  },
  {
   "cell_type": "code",
   "execution_count": 28,
   "metadata": {},
   "outputs": [
    {
     "data": {
      "text/plain": [
       "array([0.14675589, 0.09233859, 0.18626021, 0.34556073, 0.39676747])"
      ]
     },
     "execution_count": 28,
     "metadata": {},
     "output_type": "execute_result"
    }
   ],
   "source": [
    "np.random.random(5)"
   ]
  },
  {
   "cell_type": "code",
   "execution_count": 29,
   "metadata": {},
   "outputs": [
    {
     "data": {
      "text/plain": [
       "array([4.17022005e-01, 7.20324493e-01, 1.14374817e-04, 3.02332573e-01,\n",
       "       1.46755891e-01])"
      ]
     },
     "execution_count": 29,
     "metadata": {},
     "output_type": "execute_result"
    }
   ],
   "source": [
    "np.random.seed(seed=1)\n",
    "np.random.random(5)"
   ]
  },
  {
   "cell_type": "markdown",
   "metadata": {},
   "source": [
    "`random` liefert gleichverteilte Werte im Bereich `[0,1[`.\n",
    "Wenn Sie normalverteilte (also nach der Gaußschen Normalverteilung verteilte) Werte benötigen, können Sie die Funktion `np.random.normal(loc, scale, size)` verwenden. Der Parameter `loc` bezeichnet den Erwartungswert und `scale` die Standardabweichung. Mit `size` können Sie die Anzahl der zu generierenden Werte angeben."
   ]
  },
  {
   "cell_type": "code",
   "execution_count": 30,
   "metadata": {},
   "outputs": [
    {
     "data": {
      "text/plain": [
       "array([-4.4237403 , -6.61806181, -9.45387442,  4.54138139, -4.06805655,\n",
       "        2.54944726, -3.43962643,  7.09043052, -4.44145222,  0.72485707])"
      ]
     },
     "execution_count": 30,
     "metadata": {},
     "output_type": "execute_result"
    }
   ],
   "source": [
    "np.random.normal(0.0, 4.0, 10)"
   ]
  },
  {
   "cell_type": "markdown",
   "metadata": {},
   "source": [
    "Über ihre Namen, können Sie in Python auch nur einzelne Parameter angeben. Z.B. funktioniert auch der folgende Aufruf, in dem wir nur die Anzahl der Zahlen in der Funktion `normal` angeben. Für die Standardabweichung und die Varianz werden dann Default-Werte angenommen (0 bzw. 1)."
   ]
  },
  {
   "cell_type": "code",
   "execution_count": 31,
   "metadata": {},
   "outputs": [
    {
     "data": {
      "text/plain": [
       "array([ 0.56434487, -0.56651023,  0.7299756 ,  0.37299379,  0.53381091,\n",
       "       -0.0919733 ,  1.91382039,  0.33079713,  1.14194252, -1.12959516,\n",
       "       -0.85005238,  0.96082   , -0.21741818,  0.15851488,  0.87341823,\n",
       "       -0.11138337, -1.03803876, -1.00947983, -1.05825656,  0.65628408])"
      ]
     },
     "execution_count": 31,
     "metadata": {},
     "output_type": "execute_result"
    }
   ],
   "source": [
    "np.random.normal(size=20)"
   ]
  },
  {
   "cell_type": "markdown",
   "metadata": {},
   "source": [
    "NumPy bietet auch einige elementare statistische Funktionen, z.B. für den Mittelwert (`mean`) oder die Standardabweichung (`std`)."
   ]
  },
  {
   "cell_type": "code",
   "execution_count": 32,
   "metadata": {},
   "outputs": [
    {
     "name": "stdout",
     "output_type": "stream",
     "text": [
      "Erwartungswert:  3.139262161146709\n",
      "Standardabweichung:  6.970301576300891\n"
     ]
    }
   ],
   "source": [
    "a = np.random.normal(3,7,10000)\n",
    "print(\"Erwartungswert: \", a.mean())\n",
    "print(\"Standardabweichung: \", a.std())"
   ]
  },
  {
   "cell_type": "markdown",
   "metadata": {},
   "source": [
    "## Operationen\n",
    "\n",
    "Wir haben nun sehr ausführlich betrachtet, wie man Arrays anlegt und mit Werten füllen kann.\n",
    "Was wir bisher ausgelassen haben ist, wie man Operationen mit und auf NumPy Arrays durchführt.\n",
    "Dies wollen wir nun nachholen.\n",
    "\n",
    "Wenn man mit Vektoren und Matrizen rechnet, unterscheidet man Skalar- und Matrix-Operationen.\n",
    "Eine Skalar-Addition mit einem Vektor führt z.B. zu folgendem Resultat:"
   ]
  },
  {
   "cell_type": "code",
   "execution_count": 33,
   "metadata": {},
   "outputs": [
    {
     "data": {
      "text/plain": [
       "array([10, 11, 12, 13, 14, 15, 16, 17])"
      ]
     },
     "execution_count": 33,
     "metadata": {},
     "output_type": "execute_result"
    }
   ],
   "source": [
    "np.arange(8) + 10"
   ]
  },
  {
   "cell_type": "markdown",
   "metadata": {},
   "source": [
    "Addieren wir 2 Vektoren, so werden alle Werte an ihrer jeweiligen Stelle miteinander addiert."
   ]
  },
  {
   "cell_type": "code",
   "execution_count": 34,
   "metadata": {},
   "outputs": [
    {
     "data": {
      "text/plain": [
       "array([ 0,  2,  4,  6,  8, 10, 12, 14])"
      ]
     },
     "execution_count": 34,
     "metadata": {},
     "output_type": "execute_result"
    }
   ],
   "source": [
    "np.arange(8) + np.arange(8)"
   ]
  },
  {
   "cell_type": "markdown",
   "metadata": {},
   "source": [
    "Gleiches gilt für die Multiplikation"
   ]
  },
  {
   "cell_type": "code",
   "execution_count": 35,
   "metadata": {},
   "outputs": [
    {
     "data": {
      "text/plain": [
       "array([ 0,  5, 10, 15, 20, 25, 30, 35, 40, 45])"
      ]
     },
     "execution_count": 35,
     "metadata": {},
     "output_type": "execute_result"
    }
   ],
   "source": [
    "np.arange(10) * 5"
   ]
  },
  {
   "cell_type": "code",
   "execution_count": 36,
   "metadata": {},
   "outputs": [
    {
     "data": {
      "text/plain": [
       "array([ 0,  1,  4,  9, 16, 25, 36, 49])"
      ]
     },
     "execution_count": 36,
     "metadata": {},
     "output_type": "execute_result"
    }
   ],
   "source": [
    "np.arange(8) * np.arange(8)"
   ]
  },
  {
   "cell_type": "markdown",
   "metadata": {},
   "source": [
    "Arrays kann man auch mit Skalaren und Arrays vergleichen"
   ]
  },
  {
   "cell_type": "code",
   "execution_count": 37,
   "metadata": {},
   "outputs": [
    {
     "data": {
      "text/plain": [
       "array([False, False, False,  True,  True,  True,  True,  True])"
      ]
     },
     "execution_count": 37,
     "metadata": {},
     "output_type": "execute_result"
    }
   ],
   "source": [
    "np.arange(8) > 2"
   ]
  },
  {
   "cell_type": "code",
   "execution_count": 38,
   "metadata": {},
   "outputs": [
    {
     "data": {
      "text/plain": [
       "array([ True, False, False, False, False, False, False, False])"
      ]
     },
     "execution_count": 38,
     "metadata": {},
     "output_type": "execute_result"
    }
   ],
   "source": [
    "np.arange(8) == (np.arange(8) *2)"
   ]
  },
  {
   "cell_type": "markdown",
   "metadata": {},
   "source": [
    "Das Skalarprodukt (auch inneres Produkt genannt) ist eine eigene Form der Multiplikation zweier Vektoren. Dabei wird die Summe der Produkte aller Komponenten der beiden Vektoren."
   ]
  },
  {
   "cell_type": "code",
   "execution_count": 39,
   "metadata": {},
   "outputs": [
    {
     "name": "stdout",
     "output_type": "stream",
     "text": [
      "a:  [0 1 2 3 4]\n",
      "b:  [0 2 4 6 8]\n",
      "c = a*b:  [ 0  2  8 18 32]\n",
      "d = a.b:  60\n"
     ]
    }
   ],
   "source": [
    "a = np.arange(5)\n",
    "print(\"a: \", a)\n",
    "b = np.arange(5)*2\n",
    "print(\"b: \", b)\n",
    "c=a*b\n",
    "print(\"c = a*b: \", c)\n",
    "d=a.dot(b)\n",
    "print(\"d = a.b: \", d)"
   ]
  },
  {
   "cell_type": "markdown",
   "metadata": {},
   "source": [
    "Die Summe aller Elemente eines Arrays bilden Sie mit der Funktion `sum`."
   ]
  },
  {
   "cell_type": "code",
   "execution_count": 40,
   "metadata": {},
   "outputs": [
    {
     "data": {
      "text/plain": [
       "28"
      ]
     },
     "execution_count": 40,
     "metadata": {},
     "output_type": "execute_result"
    }
   ],
   "source": [
    "np.arange(8).sum()"
   ]
  },
  {
   "cell_type": "markdown",
   "metadata": {},
   "source": [
    "Darüberhinaus gibt es noch Operationen für Matrizen"
   ]
  },
  {
   "cell_type": "code",
   "execution_count": 41,
   "metadata": {},
   "outputs": [
    {
     "name": "stdout",
     "output_type": "stream",
     "text": [
      "A+B:\n",
      " [[ 0  2  4  6  8]\n",
      " [10 12 14 16 18]\n",
      " [20 22 24 26 28]\n",
      " [30 32 34 36 38]]\n",
      "A∘B:\n",
      " [[  0   1   4   9  16]\n",
      " [ 25  36  49  64  81]\n",
      " [100 121 144 169 196]\n",
      " [225 256 289 324 361]]\n"
     ]
    }
   ],
   "source": [
    "A = np.arange(20).reshape((4,5))\n",
    "B = np.arange(20).reshape((4,5))\n",
    "print(\"A+B:\\n\", A+B)\n",
    "print(\"A∘B:\\n\", A*B)"
   ]
  },
  {
   "cell_type": "markdown",
   "metadata": {},
   "source": [
    "Beachten Sie, dass die Multiplikation mit dem `*`-Operator die elementweise Multiplikation ist. Diese Operation wird auch Hadamard-Produkt oder Schur-Produkt genannt. Bei der elementweisen Multiplikation müssen beide Matrizen dieselbe Struktur besitzen.\n",
    "\n",
    "Unter einer Matrixmultiplikation versteht man eine andere Operation. Zwei Matrizen $A$ und $B$ werden miteinander multipliziert, indem man sämtliche Skalarprodukte der Zeilenvektoren von $A$ mit den Spaltenvektoren von $B$ bildet.\n",
    "Die Spaltenzahl von $A$ muss daher mit der Zeilenzahl von $B$ übereinstimmen."
   ]
  },
  {
   "cell_type": "code",
   "execution_count": 42,
   "metadata": {},
   "outputs": [
    {
     "name": "stdout",
     "output_type": "stream",
     "text": [
      "A⋅B:\n",
      " [[120 130 140 150]\n",
      " [320 355 390 425]\n",
      " [520 580 640 700]\n",
      " [720 805 890 975]]\n"
     ]
    }
   ],
   "source": [
    "A = np.arange(20).reshape((4,5))\n",
    "B = np.arange(20).reshape((5,4))\n",
    "print(\"A⋅B:\\n\", A@B)"
   ]
  },
  {
   "cell_type": "markdown",
   "metadata": {},
   "source": [
    "### Warum ist NumPy effizient"
   ]
  },
  {
   "cell_type": "markdown",
   "metadata": {},
   "source": [
    "Im folgenden wollen wir kurz analysieren, warum NumPy-Datentypen für Operationen auf großen Datensätzen besser geeignet sind, als die eingebauten Typen von Python.\n",
    "Wir Vergleichen hier 2 Vektoren $X$ und $Y$: $X$ wird dabei als NumPy Array erzeugt, $Y$ ist ein reguläres Tupel-Objekt. Die Daten/Werte in $X$ und $Y$ sind aber gleich."
   ]
  },
  {
   "cell_type": "code",
   "execution_count": 43,
   "metadata": {},
   "outputs": [
    {
     "name": "stdout",
     "output_type": "stream",
     "text": [
      "0.0\n"
     ]
    }
   ],
   "source": [
    "import math\n",
    "N = 1000000\n",
    "# X ist ein NumPy Array\n",
    "X = np.linspace(0,N-1,num=N)/N\n",
    "# Y Ist ein Tupel\n",
    "Y = tuple(y/N for y in range(0,N))\n",
    "print(sum(X-Y)) # X und Y sind 'gleich'"
   ]
  },
  {
   "cell_type": "markdown",
   "metadata": {},
   "source": [
    "Dass die unterschiedlichen Datentypen (im Beisiel, Tupel und NumPy Array) sehr unterschiedliche Speicherbedarfe haben, ist nicht ganz leicht nachzuprüfen. Zwar besitzt das Modul sys die Funktion getsizeof, welche auf beliebeige Objekte angewendet werden kann. Wenn man aber getsizeof auf ein Objekt eines Sequentiellen Datentyps anwendet, so werden nur die enthaltenen Objektreferenzen in die Berechnung der Größe miteinbezogen; nicht die referenzierte Objekte selbst. Die folgende Funktion deep_getsizeof analysiert die Größe eines Objekts und exploriert dabei alle enthaltenen Objekte in rekursiever Weise. Damit erhält man den \"echten\" Speicherbedarf eines Objektes."
   ]
  },
  {
   "cell_type": "code",
   "execution_count": 44,
   "metadata": {},
   "outputs": [],
   "source": [
    "from sys import getsizeof\n",
    "from collections.abc import Mapping, Container\n",
    "def deep_getsizeof(o, ids=None):\n",
    "    if not ids:\n",
    "        ids = set()\n",
    "                   \n",
    "    d = deep_getsizeof\n",
    "    if id(o) in ids:\n",
    "        return 0\n",
    "\n",
    "    r = getsizeof(o)\n",
    "    ids.add(id(o))\n",
    "\n",
    "    if isinstance(o, str) or isinstance(0, str):\n",
    "        return r\n",
    "\n",
    "    if isinstance(o, Mapping):\n",
    "        return r + sum(d(k, ids) + d(v, ids) for k, v in o.iteritems())\n",
    "\n",
    "    if isinstance(o, Container):\n",
    "        return r + sum(d(x, ids) for x in o)\n",
    "\n",
    "    return r"
   ]
  },
  {
   "cell_type": "code",
   "execution_count": 45,
   "metadata": {},
   "outputs": [
    {
     "name": "stdout",
     "output_type": "stream",
     "text": [
      "NumPy Array X ist 8615 kByte groß.\n",
      "Tupel Y ist 31250 kByte groß.\n"
     ]
    }
   ],
   "source": [
    "sX = deep_getsizeof(X)\n",
    "sY = deep_getsizeof(Y)\n",
    "print(\"NumPy Array X ist %d kByte groß.\" % (sX/1024))\n",
    "print(\"Tupel Y ist %d kByte groß.\" % (sY/1024))"
   ]
  },
  {
   "cell_type": "markdown",
   "metadata": {},
   "source": [
    "## Matplotlib"
   ]
  },
  {
   "cell_type": "markdown",
   "metadata": {},
   "source": [
    "Mit der Matplotlib Bibliothek können in Python mit recht einfachen Mitteln gutaussehende Grafiken erstellt werden.\n",
    "Der Funktionsumfang der Bibliothek ist sehr groß, daher werden wir Sie hier nur anhand einiger Beispiele vorstellen.\n",
    "Für die Darstellung spezieller Graphen gibt es viele Beispiele in der [Matplotlib Glerie](https://matplotlib.org/gallery/index.html).\n",
    "\n",
    "Denken Sie daran, zuerst die Bibliotheksfunktionen einzubindnen."
   ]
  },
  {
   "cell_type": "code",
   "execution_count": 46,
   "metadata": {},
   "outputs": [],
   "source": [
    "import matplotlib as mpl\n",
    "import matplotlib.pyplot as plt\n",
    "%matplotlib inline"
   ]
  },
  {
   "cell_type": "markdown",
   "metadata": {},
   "source": [
    "Um eine Mathematische Funktion darzustellen, können Sie die [`plot`-Funktion](https://matplotlib.org/api/_as_gen/matplotlib.pyplot.plot.html) verwenden.\n"
   ]
  },
  {
   "cell_type": "code",
   "execution_count": 4,
   "metadata": {},
   "outputs": [
    {
     "data": {
      "image/png": "[encoded data removed]",
      "text/plain": [
       "<Figure size 432x288 with 1 Axes>"
      ]
     },
     "metadata": {
      "needs_background": "light"
     },
     "output_type": "display_data"
    }
   ],
   "source": [
    "x = np.linspace(-120,120)\n",
    "y1 = x*x\n",
    "y2 = 0.5*x*x\n",
    "plt.plot(x, y1)\n",
    "plt.plot(x, y2, '.')\n",
    "plt.xlabel('x')\n",
    "plt.ylabel('y')\n",
    "plt.show()"
   ]
  },
  {
   "cell_type": "markdown",
   "metadata": {},
   "source": [
    "Die folgende Code-Zelle zeigt ein einfaches Beispiel, in dem eine Sinus- und eine Cosinus-Funktion mittels NumPy erzeugt und die Graphen der Funktionen mit dem Modul pyplot aus dem Paket matplotlib dargestellt werden. (Falls Sie das Paket ipywidgets nicht installiert haben, funktioniert das folgende Beispiel evt. nicht korrekt. Das ist nicht weiter schlimm, ihnen Fehlt in diesem Fall nur das aktive Element, mit dem Sie den Parameter `c` verändern können.)"
   ]
  },
  {
   "cell_type": "code",
   "execution_count": 48,
   "metadata": {},
   "outputs": [
    {
     "data": {
      "application/vnd.jupyter.widget-view+json": {
       "model_id": "066acb9a806941b2bbc9246455f886ad",
       "version_major": 2,
       "version_minor": 0
      },
      "text/plain": [
       "interactive(children=(FloatSlider(value=1.0, description='c', max=3.0, min=-1.0), Output()), _dom_classes=('wi…"
      ]
     },
     "metadata": {},
     "output_type": "display_data"
    }
   ],
   "source": [
    "from ipywidgets import interact\n",
    "def f(c):\n",
    "    x = np.linspace(0,2*np.pi)\n",
    "    fig = plt.figure()\n",
    "    plt.plot(x,np.sin(c*x),label=\"Sinus\")\n",
    "    plt.plot(x,np.cos(x),label=\"Cosinus\")\n",
    "    l_sine, l_cos = plt.gca().lines\n",
    "    l_cos.set_linewidth(10)\n",
    "    plt.legend(loc='lower left')\n",
    "    plt.show()\n",
    "interact(f, c=1.0);"
   ]
  },
  {
   "cell_type": "markdown",
   "metadata": {},
   "source": [
    "Matplotlib kann nicht nur Funktionsgraphen zeichnen, sondern bietet eine Fülle von verschiedenen Diagrammtypen. Eine gute Übersicht finden Sie [hier](https://matplotlib.org/gallery.html). Im folgenden Beispiel benutzen wir ein Histogramm um die Verteilung einer Zufallsvariablen darzustellen. Mit dem NumPy Modul _random_ generieren wir uns einen Vektor mit 20000 Einträgen auf Basis der Normal-Verteilung (auch Gauß-Verteilung genannt). Ein Histogramm ist ein Säulendiagramm, das darstellt, wie viele Elemente in einen bestimmten Wertebereich fallen. Der Parameter `bins` gibt an, in wie viele Bereiche die Darstellung aufgeteilt werden soll. Im Beispiel wollen wir also ein Sälendiagramm mit 200 Säulen zeichnen. Man erkennt im Diagramm die typische _Glockenkurve_ mit dem Erwartungswert (hier: 0) in der \"Mitte\"."
   ]
  },
  {
   "cell_type": "code",
   "execution_count": 49,
   "metadata": {},
   "outputs": [
    {
     "data": {
      "image/png": "[encoded data removed]",
      "text/plain": [
       "<Figure size 432x288 with 1 Axes>"
      ]
     },
     "metadata": {
      "needs_background": "light"
     },
     "output_type": "display_data"
    }
   ],
   "source": [
    "fig = plt.figure()\n",
    "N = 20000\n",
    "W = np.random.standard_normal(size=N)\n",
    "plt.hist(W,bins=(N//100))\n",
    "plt.show()"
   ]
  },
  {
   "cell_type": "markdown",
   "metadata": {},
   "source": [
    "Wir hatten bereits angesprochen, dass Zufallszahlen in vielen Bereichen des wissenschaftlichen Rechnens und der angewandten Mathematik (z.B. in der Finanzmathematik) wichtig sind. Häufig geht es darum, komplexe Prozesse zu simulieren, deren Ausgang von Wahrscheinlichkeiten abhängt.\n",
    "Im nächsten Beispiel, generieren wir wieder Folgen von (normalverteilten) Zufallszahlen. Auf dieser Folge berechnen wir dann mit `numpy.cumsum` die kumulierte Summe (auch [Präfixsumme](https://de.wikipedia.org/wiki/Präfixsumme) genannt). Das bedeutet, wir berechnen für jede Position in der Folge die Summe aller Folgenglieder bis zu dieser Position. Dazu addieren wir noch einen Startwert. Da der Erwartungswert der Normalverteilung Null ist und die einzelnen Elemente der Folge unabhängig sind, ist auch der Erwartungswert der Summe gleich Null.\n",
    "Wir sehen aber im Beispiel, dass sich einige der Zufallsprozesse extremer in positive oder negative Richtung entwickeln."
   ]
  },
  {
   "cell_type": "code",
   "execution_count": 50,
   "metadata": {
    "scrolled": true
   },
   "outputs": [
    {
     "data": {
      "image/png": "[encoded data removed]",
      "text/plain": [
       "<Figure size 432x288 with 1 Axes>"
      ]
     },
     "metadata": {
      "needs_background": "light"
     },
     "output_type": "display_data"
    },
    {
     "data": {
      "text/plain": [
       "10.669762639099968"
      ]
     },
     "execution_count": 50,
     "metadata": {},
     "output_type": "execute_result"
    }
   ],
   "source": [
    "fig = plt.figure()\n",
    "N = 100\n",
    "Startwert=10\n",
    "Runden=100\n",
    "Mittelwert=0\n",
    "for i in range(0,Runden):\n",
    "    X = np.random.standard_normal(size=N)\n",
    "    X = np.cumsum(X)+Startwert\n",
    "    plt.plot(X)\n",
    "    Mittelwert += np.average(X)\n",
    "Mittelwert /= Runden\n",
    "plt.show()\n",
    "Mittelwert"
   ]
  },
  {
   "cell_type": "markdown",
   "metadata": {},
   "source": [
    "Das Paket **SciPy** liefert eine Reihe weiterer mathematischer Funktionen, die über den Umfang von NumPy hinaus gehen.\n",
    "Ein relativ einfaches Beispiel ist das Ableiten von Funktionen mit der Methode `derivative` aus dem Module `scipy.misc`. Im Beispiel erzeugen wir eine Kubische Funktion $f(x)=x^3+x^2$ und stellen sie dann, zusammen mit ihrer ersten und zweiten Ableitung' mit der _matplotlib_ dar."
   ]
  },
  {
   "cell_type": "code",
   "execution_count": 51,
   "metadata": {},
   "outputs": [
    {
     "data": {
      "image/png": "[encoded data removed]",
      "text/plain": [
       "<Figure size 432x288 with 1 Axes>"
      ]
     },
     "metadata": {
      "needs_background": "light"
     },
     "output_type": "display_data"
    }
   ],
   "source": [
    "from scipy.misc import derivative\n",
    "def f(x):\n",
    "    return x**3 + x**2\n",
    "\n",
    "fig = plt.figure()\n",
    "X = np.linspace(-3,3)\n",
    "plt.plot(X,f(X),label=\"f\",lw=3)\n",
    "plt.plot(X,derivative(f,X),label=\"f'\")\n",
    "plt.plot(X,derivative(f,X,n=2),label=\"f''\")\n",
    "plt.legend(loc='best',fontsize='large')\n",
    "plt.show()"
   ]
  },
  {
   "cell_type": "markdown",
   "metadata": {},
   "source": [
    "# Pandas\n",
    "Mit Beispielen von A. Geron [https://github.com/ageron/handson-ml]"
   ]
  },
  {
   "cell_type": "markdown",
   "metadata": {},
   "source": [
    "Pandas (*Python Data Analysis Library*) ist eine Python-Bibliothek zum Speichern, Manipulieren und Auswerten tabellarischer Daten. Die wichtigsten Datenstrukturen in Pandas sind `Series` und `DataFrame`. \n",
    "\n",
    "Eine `Series` ist eine Art Vektor (oder eindimensionale Liste) zum Speichern von Zeitreihen. Ein `Dataframe` ist eine zweidimensionale Tabelle bestehend aus Zeilen und Spalten. Daneben gibt es noch die dreidimensionale Datenstruktur `Panel`, die eine Reihe von Dataframe-Objekten beschreibt.\n",
    "\n",
    "Pandas unterstützt viele Funktionen, die aus Tabellenkalkulationen und Relationalen Datenbanken bekannt sind. Man kann Daten Selektieren, neue Spalten berechnen oder Daten als Graphen darstellen. Außerdem bietet die Bibliothek umfangreiche Funktionen zum Importtieren und Exportieren verschiedener Tabellen-Formate (CSV, Excel, HDF, SQL, JSON, HTML, ...). "
   ]
  },
  {
   "cell_type": "markdown",
   "metadata": {},
   "source": [
    "Normalerweise wird `pandas` über den Namensraum `pd` importiert."
   ]
  },
  {
   "cell_type": "code",
   "execution_count": 1,
   "metadata": {},
   "outputs": [],
   "source": [
    "import pandas as pd"
   ]
  },
  {
   "cell_type": "markdown",
   "metadata": {},
   "source": [
    "## Reihen mit `Series`\n",
    "\n",
    "Ein `Series`-Objekt wird aus einer eindimensionalen Struktur erzeugt und kann verschiedene Daten-Typen (`int`, `double`, `str`, oder andere Objekte) aufnehmen.\n",
    "Eine `Series` besteht immer aus Index-Wert Paaren, die Indizes nennt man auch *Label*."
   ]
  },
  {
   "cell_type": "code",
   "execution_count": 2,
   "metadata": {},
   "outputs": [
    {
     "name": "stdout",
     "output_type": "stream",
     "text": [
      "0    2\n",
      "1   -1\n",
      "2    3\n",
      "3    5\n",
      "dtype: int64\n"
     ]
    }
   ],
   "source": [
    "s = pd.Series([2,-1,3,5])\n",
    "print(s)"
   ]
  },
  {
   "cell_type": "markdown",
   "metadata": {},
   "source": [
    "Die Daten in einem `Series`-Objekte sind alle vom gleichen Typ.\n",
    "Wenn wir die Reihe `s` wie oben mit einem `double`-Element anlegen, so wird dieser, allgemeinere Typ für alle Elemente gewählt."
   ]
  },
  {
   "cell_type": "code",
   "execution_count": 3,
   "metadata": {},
   "outputs": [
    {
     "name": "stdout",
     "output_type": "stream",
     "text": [
      "0    2.0\n",
      "1   -1.0\n",
      "2    3.0\n",
      "3    5.0\n",
      "dtype: float64\n"
     ]
    }
   ],
   "source": [
    "s = pd.Series([2.0,-1,3,5])\n",
    "print(s)"
   ]
  },
  {
   "cell_type": "markdown",
   "metadata": {},
   "source": [
    "`Series`-Objekte sind ähnlich zu `ndarrays` und können auch in NumPy-Funktionen genutzt werden."
   ]
  },
  {
   "cell_type": "code",
   "execution_count": 4,
   "metadata": {},
   "outputs": [
    {
     "name": "stdout",
     "output_type": "stream",
     "text": [
      "0     4.0\n",
      "1     1.0\n",
      "2     9.0\n",
      "3    25.0\n",
      "dtype: float64\n",
      "<class 'pandas.core.series.Series'>\n"
     ]
    }
   ],
   "source": [
    "import numpy as np\n",
    "n = np.power(s,2)\n",
    "print(n)\n",
    "print(type(n))"
   ]
  },
  {
   "cell_type": "markdown",
   "metadata": {},
   "source": [
    "Arithmetische Operationen auf `Series`-Objekte funktionieren auch wie Operationen auf `ndarray`."
   ]
  },
  {
   "cell_type": "code",
   "execution_count": 5,
   "metadata": {},
   "outputs": [
    {
     "name": "stdout",
     "output_type": "stream",
     "text": [
      "x[0] = 12.0 \t y[0] = 1002.0 \t z[0] = False\n",
      "x[1] = 19.0 \t y[1] = 999.0 \t z[1] = True\n",
      "x[2] = 33.0 \t y[2] = 1003.0 \t z[2] = False\n",
      "x[3] = 45.0 \t y[3] = 1005.0 \t z[3] = False\n"
     ]
    }
   ],
   "source": [
    "x = s + [10,20,30,40]\n",
    "y = s + 1000\n",
    "z = s < 0\n",
    "for i in range(0,len(s)):  \n",
    "    print(\"x[%d] = %s \\t y[%d] = %s \\t z[%d] = %s\" %(i, x[i], i, y[i], i, z[i]) )\n"
   ]
  },
  {
   "cell_type": "markdown",
   "metadata": {},
   "source": [
    "In der obigen Code-Zelle ist `i` ein Laufvariable, die die Indizes der Zeilen angibt. `len(s)` liefert die Länge eines sequentiellen Datentyps und ist in diesem Fall gleich 4. `range(0,4)` liefert eine iterierbare Sequenz von 0 bis 4 (ausschließlich), also `0, 1, 2, 3`. Über diese Indizes kann man natürlich auch auf die einzelnen Elemente der `Series` zugreifen.\n",
    "\n",
    "Die gleiche Folge von Indizes kann man auch (ohne die `range`-Funktion) direkt über die `Series` erhalten. Der Funktionsaufruf dazu lautet `s.index.values.tolist()`, wobei `s` der Name der `Series` ist."
   ]
  },
  {
   "cell_type": "markdown",
   "metadata": {},
   "source": [
    "### Index Label\n",
    "\n",
    "Wir haben gerade gesehen, dass wir einzelne Elemente einer `Series` über einen Index ansprechen können. Im Standardfall ist, dass einfach die Position des Elements beginnend mit dem Index 0. Man kann aber auch eigene *Index Label* definieren. Diese definierten Label müssen auch keineswegs vom Typ `int` sein."
   ]
  },
  {
   "cell_type": "code",
   "execution_count": 6,
   "metadata": {},
   "outputs": [
    {
     "name": "stdout",
     "output_type": "stream",
     "text": [
      "Alice    27\n",
      "Bob      21\n",
      "Carol    35\n",
      "dtype: int64\n",
      "Bob hat 21 Punkte.\n"
     ]
    }
   ],
   "source": [
    "s = pd.Series([27, 21, 35], index=[\"Alice\", \"Bob\", \"Carol\"])\n",
    "print(s)\n",
    "print(\"Bob hat %d Punkte.\" % s[\"Bob\"])"
   ]
  },
  {
   "cell_type": "markdown",
   "metadata": {},
   "source": [
    "Der Zugriff über die Position funktioniert dann sogar immer noch:"
   ]
  },
  {
   "cell_type": "code",
   "execution_count": 7,
   "metadata": {},
   "outputs": [
    {
     "name": "stdout",
     "output_type": "stream",
     "text": [
      "Bob hat 21 Punkte.\n"
     ]
    }
   ],
   "source": [
    "print(\"Bob hat %d Punkte.\" % s[1])"
   ]
  },
  {
   "cell_type": "markdown",
   "metadata": {},
   "source": [
    "Anstatt die Funktion `pd.Series()` mit dem Parameter `index`  aufzurufen, kann man die `Series` auch direkt aus einem Dictionary (Wörterbuch) erstellen. Die Schlüssel werden dabei zu *Labels*, die Werte bilden die Datenreihe:"
   ]
  },
  {
   "cell_type": "code",
   "execution_count": 8,
   "metadata": {},
   "outputs": [
    {
     "data": {
      "text/plain": [
       "Alice    25\n",
       "Bob      21\n",
       "Carol    35\n",
       "dtype: int64"
      ]
     },
     "execution_count": 8,
     "metadata": {},
     "output_type": "execute_result"
    }
   ],
   "source": [
    "s = pd.Series({\"Alice\" : 25, \"Bob\" : 21, \"Carol\" : 35})\n",
    "s"
   ]
  },
  {
   "cell_type": "markdown",
   "metadata": {},
   "source": [
    "### Automatische Verknüpfungen\n",
    "\n",
    "Wenn man mehrere `Series`-Objekte über Operationen verknüpft, so werden die Daten entsprechend ihrer Labels ausgerichtet. Im folgenden Beispiel erzeugen wir eine neue `Series` *pluspunkte*, in der die Labels *Alice* und *Bob* (in anderer Reihenfolge) auftauchen. *Carol* ist nicht in der neuen Liste, dafür aber *Dave* und *Eve*.\n",
    "\n",
    "Wenn wir nun die `+`-Operation auf den beiden `Series` ausführen, enthält das Resultat `neueSeries` alle Einträge der beiden anderen Listen. Für diejenigen Einträge, die in beiden `Series` auftreten, wird die `+`-Operation sinnvoll ausgeführt. Alle weiteren Einträge werden zwar aufgenommen, der Wert der Operation ist aber `NaN` (*Not a Number*).\n",
    "\n",
    "`NaN` als Ergebnis mag zwar unschön wirken, ist aber durchaus ein sinnvolles Resultat. Stellen Sie sich vor, fehlende Einträge würde als Wert `0` angenommen. Dies könnte zu Ergebnissen führen, die für die Anwendung gar nicht korrekt sind. Außerdem würden dann in der `Series` lauter Werte stehen und es wäre nicht so einfach ersichtlich, bei welchen Einträgen die Datensätze unvollständig waren."
   ]
  },
  {
   "cell_type": "code",
   "execution_count": 9,
   "metadata": {},
   "outputs": [
    {
     "name": "stdout",
     "output_type": "stream",
     "text": [
      "Alice    25\n",
      "Bob      21\n",
      "Carol    35\n",
      "dtype: int64\n",
      "Bob       1\n",
      "Alice     5\n",
      "Dave     15\n",
      "Eve       3\n",
      "dtype: int64\n",
      "Alice    30.0\n",
      "Bob      22.0\n",
      "Carol     NaN\n",
      "Dave      NaN\n",
      "Eve       NaN\n",
      "dtype: float64\n"
     ]
    }
   ],
   "source": [
    "pluspunkte = pd.Series({\"Bob\" : 1, \"Alice\" : 5, \"Dave\" : 15, \"Eve\" : 3})\n",
    "print(s)\n",
    "print(pluspunkte)\n",
    "neueSeries = s + pluspunkte\n",
    "print(neueSeries)"
   ]
  },
  {
   "cell_type": "markdown",
   "metadata": {},
   "source": [
    "##  Tabellen mit `DataFrame`\n",
    "\n",
    "Ein `DataFrame` Objekt ist eine zweidimensionale Tabelle. Die Zeilen, wie auch die Spalten sind benannt, auch hier heißen die Namen *Label*. Jede Spalte eines `DataFrame` ist dabei im Wesentlichen `Series`-Objekt. Man kann ein `DataFrame`Objekt z.B. aus einem Dictionary von `Series`-Objekten erzeugen:"
   ]
  },
  {
   "cell_type": "code",
   "execution_count": 10,
   "metadata": {},
   "outputs": [
    {
     "data": {
      "text/html": [
       "<div>\n",
       "<style scoped>\n",
       "    .dataframe tbody tr th:only-of-type {\n",
       "        vertical-align: middle;\n",
       "    }\n",
       "\n",
       "    .dataframe tbody tr th {\n",
       "        vertical-align: top;\n",
       "    }\n",
       "\n",
       "    .dataframe thead th {\n",
       "        text-align: right;\n",
       "    }\n",
       "</style>\n",
       "<table border=\"1\" class=\"dataframe\">\n",
       "  <thead>\n",
       "    <tr style=\"text-align: right;\">\n",
       "      <th></th>\n",
       "      <th>Bonuspunkte</th>\n",
       "      <th>Matrikelnummern</th>\n",
       "      <th>Pluspunkten</th>\n",
       "    </tr>\n",
       "  </thead>\n",
       "  <tbody>\n",
       "    <tr>\n",
       "      <th>Alice</th>\n",
       "      <td>27.0</td>\n",
       "      <td>833421</td>\n",
       "      <td>5.0</td>\n",
       "    </tr>\n",
       "    <tr>\n",
       "      <th>Bob</th>\n",
       "      <td>21.0</td>\n",
       "      <td>831473</td>\n",
       "      <td>1.0</td>\n",
       "    </tr>\n",
       "    <tr>\n",
       "      <th>Carol</th>\n",
       "      <td>35.0</td>\n",
       "      <td>700326</td>\n",
       "      <td>NaN</td>\n",
       "    </tr>\n",
       "    <tr>\n",
       "      <th>Dave</th>\n",
       "      <td>NaN</td>\n",
       "      <td>833711</td>\n",
       "      <td>15.0</td>\n",
       "    </tr>\n",
       "    <tr>\n",
       "      <th>Eve</th>\n",
       "      <td>NaN</td>\n",
       "      <td>831612</td>\n",
       "      <td>3.0</td>\n",
       "    </tr>\n",
       "  </tbody>\n",
       "</table>\n",
       "</div>"
      ],
      "text/plain": [
       "       Bonuspunkte  Matrikelnummern  Pluspunkten\n",
       "Alice         27.0           833421          5.0\n",
       "Bob           21.0           831473          1.0\n",
       "Carol         35.0           700326          NaN\n",
       "Dave           NaN           833711         15.0\n",
       "Eve            NaN           831612          3.0"
      ]
     },
     "execution_count": 10,
     "metadata": {},
     "output_type": "execute_result"
    }
   ],
   "source": [
    "namen=[\"Alice\", \"Bob\", \"Carol\", \"Dave\", \"Eve\"]\n",
    "punkte = pd.Series([27, 21, 35], index=namen[0:3])\n",
    "matnr =  pd.Series([833421, 831473, 700326, 833711, 831612], index=namen)\n",
    "pluspunkte = pd.Series({\"Bob\" : 1, \"Alice\" : 5, \"Dave\" : 15, \"Eve\" : 3})\n",
    "\n",
    "\n",
    "stud_dictionary = {\n",
    "    \"Bonuspunkte\": punkte,\n",
    "    \"Matrikelnummern\": matnr,\n",
    "    \"Pluspunkten\": pluspunkte\n",
    "}\n",
    "stud = pd.DataFrame(stud_dictionary)\n",
    "stud"
   ]
  },
  {
   "cell_type": "markdown",
   "metadata": {},
   "source": [
    "Auf einzelne Spalten des `DataFrame`-Objekts greift man wie bei einem Dictionary über den Namen der Spalte zu."
   ]
  },
  {
   "cell_type": "code",
   "execution_count": 11,
   "metadata": {},
   "outputs": [
    {
     "data": {
      "text/plain": [
       "Alice    833421\n",
       "Bob      831473\n",
       "Carol    700326\n",
       "Dave     833711\n",
       "Eve      831612\n",
       "Name: Matrikelnummern, dtype: int64"
      ]
     },
     "execution_count": 11,
     "metadata": {},
     "output_type": "execute_result"
    }
   ],
   "source": [
    "stud[\"Matrikelnummern\"]"
   ]
  },
  {
   "cell_type": "markdown",
   "metadata": {},
   "source": [
    "Es können auch mehrere Spalten ausgewählt werden. Dann müssen die Spaltennamen als Liste übergeben werden."
   ]
  },
  {
   "cell_type": "code",
   "execution_count": 12,
   "metadata": {},
   "outputs": [
    {
     "data": {
      "text/html": [
       "<div>\n",
       "<style scoped>\n",
       "    .dataframe tbody tr th:only-of-type {\n",
       "        vertical-align: middle;\n",
       "    }\n",
       "\n",
       "    .dataframe tbody tr th {\n",
       "        vertical-align: top;\n",
       "    }\n",
       "\n",
       "    .dataframe thead th {\n",
       "        text-align: right;\n",
       "    }\n",
       "</style>\n",
       "<table border=\"1\" class=\"dataframe\">\n",
       "  <thead>\n",
       "    <tr style=\"text-align: right;\">\n",
       "      <th></th>\n",
       "      <th>Matrikelnummern</th>\n",
       "      <th>Bonuspunkte</th>\n",
       "    </tr>\n",
       "  </thead>\n",
       "  <tbody>\n",
       "    <tr>\n",
       "      <th>Alice</th>\n",
       "      <td>833421</td>\n",
       "      <td>27.0</td>\n",
       "    </tr>\n",
       "    <tr>\n",
       "      <th>Bob</th>\n",
       "      <td>831473</td>\n",
       "      <td>21.0</td>\n",
       "    </tr>\n",
       "    <tr>\n",
       "      <th>Carol</th>\n",
       "      <td>700326</td>\n",
       "      <td>35.0</td>\n",
       "    </tr>\n",
       "    <tr>\n",
       "      <th>Dave</th>\n",
       "      <td>833711</td>\n",
       "      <td>NaN</td>\n",
       "    </tr>\n",
       "    <tr>\n",
       "      <th>Eve</th>\n",
       "      <td>831612</td>\n",
       "      <td>NaN</td>\n",
       "    </tr>\n",
       "  </tbody>\n",
       "</table>\n",
       "</div>"
      ],
      "text/plain": [
       "       Matrikelnummern  Bonuspunkte\n",
       "Alice           833421         27.0\n",
       "Bob             831473         21.0\n",
       "Carol           700326         35.0\n",
       "Dave            833711          NaN\n",
       "Eve             831612          NaN"
      ]
     },
     "execution_count": 12,
     "metadata": {},
     "output_type": "execute_result"
    }
   ],
   "source": [
    "stud[[\"Matrikelnummern\", \"Bonuspunkte\"]]"
   ]
  },
  {
   "cell_type": "markdown",
   "metadata": {},
   "source": [
    "Auf die Daten für einzelne Zeilen der Tabelle greift man über das Attribut `loc` zu."
   ]
  },
  {
   "cell_type": "code",
   "execution_count": 13,
   "metadata": {},
   "outputs": [
    {
     "data": {
      "text/plain": [
       "Bonuspunkte            21.0\n",
       "Matrikelnummern    831473.0\n",
       "Pluspunkten             1.0\n",
       "Name: Bob, dtype: float64"
      ]
     },
     "execution_count": 13,
     "metadata": {},
     "output_type": "execute_result"
    }
   ],
   "source": [
    "stud.loc[\"Bob\"]"
   ]
  },
  {
   "cell_type": "markdown",
   "metadata": {},
   "source": [
    "`DataFrames` können auch direkt aus zweidimensionalen NumPy Arrays erzeugt werden. Im folgenden Beispiel wird ein `ndarray` mit Geburtsjahren, Matrikelnummern und Studiengangsnamen von Personen angelegt. Aus diesem Array `p` wird dann ein `DataFrame` erzeugt. Dazu wird `p` transponiert und mit Spalten- (`columns`) und Zeilen-Labels (`index`) versehen. Fehlende Werte im Array können z.B. mit `np.nan` angelegt werden."
   ]
  },
  {
   "cell_type": "code",
   "execution_count": 14,
   "metadata": {},
   "outputs": [
    {
     "data": {
      "text/html": [
       "<div>\n",
       "<style scoped>\n",
       "    .dataframe tbody tr th:only-of-type {\n",
       "        vertical-align: middle;\n",
       "    }\n",
       "\n",
       "    .dataframe tbody tr th {\n",
       "        vertical-align: top;\n",
       "    }\n",
       "\n",
       "    .dataframe thead th {\n",
       "        text-align: right;\n",
       "    }\n",
       "</style>\n",
       "<table border=\"1\" class=\"dataframe\">\n",
       "  <thead>\n",
       "    <tr style=\"text-align: right;\">\n",
       "      <th></th>\n",
       "      <th>Geburtsjahr</th>\n",
       "      <th>Matrikelnummer</th>\n",
       "      <th>Studiengang</th>\n",
       "    </tr>\n",
       "  </thead>\n",
       "  <tbody>\n",
       "    <tr>\n",
       "      <th>Alice</th>\n",
       "      <td>1995</td>\n",
       "      <td>833421</td>\n",
       "      <td>Info</td>\n",
       "    </tr>\n",
       "    <tr>\n",
       "      <th>Bob</th>\n",
       "      <td>1992</td>\n",
       "      <td>831473</td>\n",
       "      <td>MBau</td>\n",
       "    </tr>\n",
       "    <tr>\n",
       "      <th>Carol</th>\n",
       "      <td>1988</td>\n",
       "      <td>700326</td>\n",
       "      <td>Info</td>\n",
       "    </tr>\n",
       "    <tr>\n",
       "      <th>Dave</th>\n",
       "      <td>2001</td>\n",
       "      <td>0</td>\n",
       "      <td>ETech</td>\n",
       "    </tr>\n",
       "    <tr>\n",
       "      <th>Eve</th>\n",
       "      <td>1999</td>\n",
       "      <td>831612</td>\n",
       "      <td>Info</td>\n",
       "    </tr>\n",
       "  </tbody>\n",
       "</table>\n",
       "</div>"
      ],
      "text/plain": [
       "      Geburtsjahr Matrikelnummer Studiengang\n",
       "Alice        1995         833421        Info\n",
       "Bob          1992         831473        MBau\n",
       "Carol        1988         700326        Info\n",
       "Dave         2001              0       ETech\n",
       "Eve          1999         831612        Info"
      ]
     },
     "execution_count": 14,
     "metadata": {},
     "output_type": "execute_result"
    }
   ],
   "source": [
    "import numpy as np\n",
    "p = np.array([[1995, 1992, 1988, 2001, 1999], \n",
    "     [833421, 831473, 700326, 0, 831612],\n",
    "     [\"Info\", \"MBau\", \"Info\", \"ETech\", \"Info\"]\n",
    "    ])\n",
    "\n",
    "namen=[\"Alice\", \"Bob\", \"Carol\", \"Dave\", \"Eve\"]\n",
    "\n",
    "personen = pd.DataFrame(\n",
    "    p.T,\n",
    "    columns=[\"Geburtsjahr\", \"Matrikelnummer\", \"Studiengang\"],\n",
    "    index=namen\n",
    "    )\n",
    "personen"
   ]
  },
  {
   "cell_type": "markdown",
   "metadata": {},
   "source": [
    "Manchmal ist es hilfreich, die Spalten einer Tabelle in weitere Klassen zu unterteilten. Dies geht mit sogenannten *Multilabels*. Im folgenden Beispiel legen wir die den obigen `DataFrame` erneut an. Nun geben aber nun statt der Spaltennamen, Tupel, bestehend aus Klassenname und Spaltenname, an. Die Funktion `pd.MultiIndex.from_tuples()` generiert daraus hierarchische Spaltenbezeichnungen."
   ]
  },
  {
   "cell_type": "code",
   "execution_count": 15,
   "metadata": {},
   "outputs": [
    {
     "data": {
      "text/html": [
       "<div>\n",
       "<style scoped>\n",
       "    .dataframe tbody tr th:only-of-type {\n",
       "        vertical-align: middle;\n",
       "    }\n",
       "\n",
       "    .dataframe tbody tr th {\n",
       "        vertical-align: top;\n",
       "    }\n",
       "\n",
       "    .dataframe thead tr th {\n",
       "        text-align: left;\n",
       "    }\n",
       "</style>\n",
       "<table border=\"1\" class=\"dataframe\">\n",
       "  <thead>\n",
       "    <tr>\n",
       "      <th></th>\n",
       "      <th>persoenlich</th>\n",
       "      <th colspan=\"2\" halign=\"left\">verwaltung</th>\n",
       "    </tr>\n",
       "    <tr>\n",
       "      <th></th>\n",
       "      <th>Geburtsjahr</th>\n",
       "      <th>Matrikelnummer</th>\n",
       "      <th>Studiengang</th>\n",
       "    </tr>\n",
       "  </thead>\n",
       "  <tbody>\n",
       "    <tr>\n",
       "      <th>Alice</th>\n",
       "      <td>1995</td>\n",
       "      <td>833421</td>\n",
       "      <td>Info</td>\n",
       "    </tr>\n",
       "    <tr>\n",
       "      <th>Bob</th>\n",
       "      <td>1992</td>\n",
       "      <td>831473</td>\n",
       "      <td>MBau</td>\n",
       "    </tr>\n",
       "    <tr>\n",
       "      <th>Carol</th>\n",
       "      <td>1988</td>\n",
       "      <td>700326</td>\n",
       "      <td>Info</td>\n",
       "    </tr>\n",
       "    <tr>\n",
       "      <th>Dave</th>\n",
       "      <td>2001</td>\n",
       "      <td>0</td>\n",
       "      <td>ETech</td>\n",
       "    </tr>\n",
       "    <tr>\n",
       "      <th>Eve</th>\n",
       "      <td>1999</td>\n",
       "      <td>831612</td>\n",
       "      <td>Info</td>\n",
       "    </tr>\n",
       "  </tbody>\n",
       "</table>\n",
       "</div>"
      ],
      "text/plain": [
       "      persoenlich     verwaltung            \n",
       "      Geburtsjahr Matrikelnummer Studiengang\n",
       "Alice        1995         833421        Info\n",
       "Bob          1992         831473        MBau\n",
       "Carol        1988         700326        Info\n",
       "Dave         2001              0       ETech\n",
       "Eve          1999         831612        Info"
      ]
     },
     "execution_count": 15,
     "metadata": {},
     "output_type": "execute_result"
    }
   ],
   "source": [
    "personen_mult = pd.DataFrame(\n",
    "    p.T,\n",
    "    columns=pd.MultiIndex.from_tuples(\n",
    "        [(\"persoenlich\", \"Geburtsjahr\"), (\"verwaltung\",\"Matrikelnummer\"), (\"verwaltung\",\"Studiengang\")]\n",
    "    ),\n",
    "    index=namen\n",
    "    )\n",
    "personen_mult"
   ]
  },
  {
   "cell_type": "markdown",
   "metadata": {},
   "source": [
    "Wenn wir nun auf eine bestimmte Klasse der Spalten zugreifen wollen, geht das einfach über den Klassennamen:"
   ]
  },
  {
   "cell_type": "code",
   "execution_count": 16,
   "metadata": {},
   "outputs": [
    {
     "data": {
      "text/html": [
       "<div>\n",
       "<style scoped>\n",
       "    .dataframe tbody tr th:only-of-type {\n",
       "        vertical-align: middle;\n",
       "    }\n",
       "\n",
       "    .dataframe tbody tr th {\n",
       "        vertical-align: top;\n",
       "    }\n",
       "\n",
       "    .dataframe thead th {\n",
       "        text-align: right;\n",
       "    }\n",
       "</style>\n",
       "<table border=\"1\" class=\"dataframe\">\n",
       "  <thead>\n",
       "    <tr style=\"text-align: right;\">\n",
       "      <th></th>\n",
       "      <th>Matrikelnummer</th>\n",
       "      <th>Studiengang</th>\n",
       "    </tr>\n",
       "  </thead>\n",
       "  <tbody>\n",
       "    <tr>\n",
       "      <th>Alice</th>\n",
       "      <td>833421</td>\n",
       "      <td>Info</td>\n",
       "    </tr>\n",
       "    <tr>\n",
       "      <th>Bob</th>\n",
       "      <td>831473</td>\n",
       "      <td>MBau</td>\n",
       "    </tr>\n",
       "    <tr>\n",
       "      <th>Carol</th>\n",
       "      <td>700326</td>\n",
       "      <td>Info</td>\n",
       "    </tr>\n",
       "    <tr>\n",
       "      <th>Dave</th>\n",
       "      <td>0</td>\n",
       "      <td>ETech</td>\n",
       "    </tr>\n",
       "    <tr>\n",
       "      <th>Eve</th>\n",
       "      <td>831612</td>\n",
       "      <td>Info</td>\n",
       "    </tr>\n",
       "  </tbody>\n",
       "</table>\n",
       "</div>"
      ],
      "text/plain": [
       "      Matrikelnummer Studiengang\n",
       "Alice         833421        Info\n",
       "Bob           831473        MBau\n",
       "Carol         700326        Info\n",
       "Dave               0       ETech\n",
       "Eve           831612        Info"
      ]
     },
     "execution_count": 16,
     "metadata": {},
     "output_type": "execute_result"
    }
   ],
   "source": [
    "personen_mult[\"verwaltung\"]"
   ]
  },
  {
   "cell_type": "markdown",
   "metadata": {},
   "source": [
    "Einzelne Spalten können nun über die Angabe der beiden Labels ausgewählt werden."
   ]
  },
  {
   "cell_type": "code",
   "execution_count": 17,
   "metadata": {},
   "outputs": [
    {
     "data": {
      "text/plain": [
       "Alice    833421\n",
       "Bob      831473\n",
       "Carol    700326\n",
       "Dave          0\n",
       "Eve      831612\n",
       "Name: (verwaltung, Matrikelnummer), dtype: object"
      ]
     },
     "execution_count": 17,
     "metadata": {},
     "output_type": "execute_result"
    }
   ],
   "source": [
    "personen_mult[\"verwaltung\",\"Matrikelnummer\"]"
   ]
  },
  {
   "cell_type": "markdown",
   "metadata": {},
   "source": [
    "### DataFrames Speicher und Laden"
   ]
  },
  {
   "cell_type": "markdown",
   "metadata": {},
   "source": [
    "Wir haben in diesen Abschnitt nur betrachtet, wie man DataFrames aus Listen oder NumPy Arrays erstellt. Der gebräuchlichste Weg aber, um `DataFrame`-Objekte zu erzeugen, ist das Laden von Daten aus einer Datei. Ein verbreitetes Tabellenformat ist CSV (*Comma Separated Values*). CSV-Dateien können wie folgt in einen `DataFrame` eingelesen werden:\n",
    "\n",
    "```python\n",
    "neuer_df = pd.read_csv(\"Tabelle.csv\", index_col=0)\n",
    "```\n",
    "\n",
    "In diesem Beispiel weisen wir die `read_csv`-Methode an, die erste Spalte der Tabelle als Indexlabel zu verwenden.\n",
    "Um die Spaltennamen zu setzen, können sie einen Parameter `header` auf die Nummer der Zeile setzen, in der die Tabelle die Namen der Spalten trägt.\n",
    "Setzen Sie `header=infer`, so sucht Pandas automatisch nach einer passenden Zeile mit Spaltennamen.\n",
    "\n",
    "Ähnliche Methoden existieren auch für das Exportieren von DataFrames. Darüber hinaus werden noch viele andere Formate außer CSV unterstützt."
   ]
  },
  {
   "cell_type": "markdown",
   "metadata": {},
   "source": [
    "```python\n",
    "neuer_df.to_csv(\"MeinDataFrame.csv\")\n",
    "neuer_df.to_html(\"MeinDataFrame.html\")\n",
    "neuer_df.to_json(\"MeinDataFrame.json\")\n",
    "```"
   ]
  },
  {
   "cell_type": "markdown",
   "metadata": {},
   "source": [
    "### DataFrames verändern\n",
    "\n",
    "`DataFrames`  können wie NumPy Arrays mit dem `T`-Attribut transponiert werden:"
   ]
  },
  {
   "cell_type": "code",
   "execution_count": 18,
   "metadata": {},
   "outputs": [
    {
     "data": {
      "text/html": [
       "<div>\n",
       "<style scoped>\n",
       "    .dataframe tbody tr th:only-of-type {\n",
       "        vertical-align: middle;\n",
       "    }\n",
       "\n",
       "    .dataframe tbody tr th {\n",
       "        vertical-align: top;\n",
       "    }\n",
       "\n",
       "    .dataframe thead th {\n",
       "        text-align: right;\n",
       "    }\n",
       "</style>\n",
       "<table border=\"1\" class=\"dataframe\">\n",
       "  <thead>\n",
       "    <tr style=\"text-align: right;\">\n",
       "      <th></th>\n",
       "      <th></th>\n",
       "      <th>Alice</th>\n",
       "      <th>Bob</th>\n",
       "      <th>Carol</th>\n",
       "      <th>Dave</th>\n",
       "      <th>Eve</th>\n",
       "    </tr>\n",
       "  </thead>\n",
       "  <tbody>\n",
       "    <tr>\n",
       "      <th>persoenlich</th>\n",
       "      <th>Geburtsjahr</th>\n",
       "      <td>1995</td>\n",
       "      <td>1992</td>\n",
       "      <td>1988</td>\n",
       "      <td>2001</td>\n",
       "      <td>1999</td>\n",
       "    </tr>\n",
       "    <tr>\n",
       "      <th rowspan=\"2\" valign=\"top\">verwaltung</th>\n",
       "      <th>Matrikelnummer</th>\n",
       "      <td>833421</td>\n",
       "      <td>831473</td>\n",
       "      <td>700326</td>\n",
       "      <td>0</td>\n",
       "      <td>831612</td>\n",
       "    </tr>\n",
       "    <tr>\n",
       "      <th>Studiengang</th>\n",
       "      <td>Info</td>\n",
       "      <td>MBau</td>\n",
       "      <td>Info</td>\n",
       "      <td>ETech</td>\n",
       "      <td>Info</td>\n",
       "    </tr>\n",
       "  </tbody>\n",
       "</table>\n",
       "</div>"
      ],
      "text/plain": [
       "                             Alice     Bob   Carol   Dave     Eve\n",
       "persoenlich Geburtsjahr       1995    1992    1988   2001    1999\n",
       "verwaltung  Matrikelnummer  833421  831473  700326      0  831612\n",
       "            Studiengang       Info    MBau    Info  ETech    Info"
      ]
     },
     "execution_count": 18,
     "metadata": {},
     "output_type": "execute_result"
    }
   ],
   "source": [
    "eintraege = personen_mult.T\n",
    "eintraege"
   ]
  },
  {
   "cell_type": "markdown",
   "metadata": {},
   "source": [
    "Spalten können einfach mit den `del`-Operator aus dem `DataFrame` gelöscht werden. Im folgenden Beispiel erzeugen wir zuerst eine Kopie des `DataFrame`-Objekts mit der `copy`-Methode Beachten Sie, dass eine einfache Zuweisung an dieser Stelle nicht genügt, um einen neuen `DataFrame` zu erzeugen. Der Ausdruck `eintraege_tmp = eintraege` würde nur eine Referenz `eintraege_tmp` für das gleiche Objekt erstellen. Änderungen an `eintraege_tmp` würden dann ebenso das Objekt `eintraege` betreffen."
   ]
  },
  {
   "cell_type": "code",
   "execution_count": 19,
   "metadata": {},
   "outputs": [
    {
     "data": {
      "text/html": [
       "<div>\n",
       "<style scoped>\n",
       "    .dataframe tbody tr th:only-of-type {\n",
       "        vertical-align: middle;\n",
       "    }\n",
       "\n",
       "    .dataframe tbody tr th {\n",
       "        vertical-align: top;\n",
       "    }\n",
       "\n",
       "    .dataframe thead th {\n",
       "        text-align: right;\n",
       "    }\n",
       "</style>\n",
       "<table border=\"1\" class=\"dataframe\">\n",
       "  <thead>\n",
       "    <tr style=\"text-align: right;\">\n",
       "      <th></th>\n",
       "      <th></th>\n",
       "      <th>Alice</th>\n",
       "      <th>Bob</th>\n",
       "      <th>Carol</th>\n",
       "      <th>Eve</th>\n",
       "    </tr>\n",
       "  </thead>\n",
       "  <tbody>\n",
       "    <tr>\n",
       "      <th>persoenlich</th>\n",
       "      <th>Geburtsjahr</th>\n",
       "      <td>1995</td>\n",
       "      <td>1992</td>\n",
       "      <td>1988</td>\n",
       "      <td>1999</td>\n",
       "    </tr>\n",
       "    <tr>\n",
       "      <th rowspan=\"2\" valign=\"top\">verwaltung</th>\n",
       "      <th>Matrikelnummer</th>\n",
       "      <td>833421</td>\n",
       "      <td>831473</td>\n",
       "      <td>700326</td>\n",
       "      <td>831612</td>\n",
       "    </tr>\n",
       "    <tr>\n",
       "      <th>Studiengang</th>\n",
       "      <td>Info</td>\n",
       "      <td>MBau</td>\n",
       "      <td>Info</td>\n",
       "      <td>Info</td>\n",
       "    </tr>\n",
       "  </tbody>\n",
       "</table>\n",
       "</div>"
      ],
      "text/plain": [
       "                             Alice     Bob   Carol     Eve\n",
       "persoenlich Geburtsjahr       1995    1992    1988    1999\n",
       "verwaltung  Matrikelnummer  833421  831473  700326  831612\n",
       "            Studiengang       Info    MBau    Info    Info"
      ]
     },
     "execution_count": 19,
     "metadata": {},
     "output_type": "execute_result"
    }
   ],
   "source": [
    "eintraege_tmp = eintraege.copy(deep=True)\n",
    "del eintraege_tmp[\"Dave\"]\n",
    "eintraege_tmp"
   ]
  },
  {
   "cell_type": "markdown",
   "metadata": {},
   "source": [
    "Neue Spalten hinzufügen, kann man mit der Methode `insert()`.\n",
    "Der erste Parameter gibt dabei an, nach welcher Spalte der neue Datensatz eingefügt werden soll."
   ]
  },
  {
   "cell_type": "code",
   "execution_count": 20,
   "metadata": {},
   "outputs": [
    {
     "data": {
      "text/html": [
       "<div>\n",
       "<style scoped>\n",
       "    .dataframe tbody tr th:only-of-type {\n",
       "        vertical-align: middle;\n",
       "    }\n",
       "\n",
       "    .dataframe tbody tr th {\n",
       "        vertical-align: top;\n",
       "    }\n",
       "\n",
       "    .dataframe thead th {\n",
       "        text-align: right;\n",
       "    }\n",
       "</style>\n",
       "<table border=\"1\" class=\"dataframe\">\n",
       "  <thead>\n",
       "    <tr style=\"text-align: right;\">\n",
       "      <th></th>\n",
       "      <th></th>\n",
       "      <th>Alice</th>\n",
       "      <th>Bob</th>\n",
       "      <th>Carol</th>\n",
       "      <th>Eve</th>\n",
       "      <th>Duane</th>\n",
       "    </tr>\n",
       "  </thead>\n",
       "  <tbody>\n",
       "    <tr>\n",
       "      <th>persoenlich</th>\n",
       "      <th>Geburtsjahr</th>\n",
       "      <td>1995</td>\n",
       "      <td>1992</td>\n",
       "      <td>1988</td>\n",
       "      <td>1999</td>\n",
       "      <td>2000</td>\n",
       "    </tr>\n",
       "    <tr>\n",
       "      <th rowspan=\"2\" valign=\"top\">verwaltung</th>\n",
       "      <th>Matrikelnummer</th>\n",
       "      <td>833421</td>\n",
       "      <td>831473</td>\n",
       "      <td>700326</td>\n",
       "      <td>831612</td>\n",
       "      <td>833935</td>\n",
       "    </tr>\n",
       "    <tr>\n",
       "      <th>Studiengang</th>\n",
       "      <td>Info</td>\n",
       "      <td>MBau</td>\n",
       "      <td>Info</td>\n",
       "      <td>Info</td>\n",
       "      <td>MBau</td>\n",
       "    </tr>\n",
       "  </tbody>\n",
       "</table>\n",
       "</div>"
      ],
      "text/plain": [
       "                             Alice     Bob   Carol     Eve   Duane\n",
       "persoenlich Geburtsjahr       1995    1992    1988    1999    2000\n",
       "verwaltung  Matrikelnummer  833421  831473  700326  831612  833935\n",
       "            Studiengang       Info    MBau    Info    Info    MBau"
      ]
     },
     "execution_count": 20,
     "metadata": {},
     "output_type": "execute_result"
    }
   ],
   "source": [
    "eintraege_tmp.insert(4, \"Duane\", [2000, 833935, \"MBau\"])\n",
    "eintraege_tmp"
   ]
  },
  {
   "cell_type": "markdown",
   "metadata": {},
   "source": [
    "### Spalten \"Stapeln\" und \"Entstapeln\"\n",
    "\n",
    "Mit der `stack()` Methode kann man die Spalten eines `DataFrame` aufstapeln.\n",
    "Angenommen, eine Tabelle hat $m$ Zeilen und $n$ Spalten.\n",
    "Die `stack()`-Funktion erzeugt daraus ein `Series`-Objekt mit $m*n$ Elementen.\n",
    "Jede einzelne Zeile wird dabei ver-$n$-facht, indem alle $n$ Spaltenwerte der Zeile \"untereinander\" geschrieben werden.\n",
    "Das Label der Zeile wird kombiniert aus dem alten Zeilennamen plus dem alten Spaltennamen."
   ]
  },
  {
   "cell_type": "code",
   "execution_count": 21,
   "metadata": {},
   "outputs": [
    {
     "name": "stdout",
     "output_type": "stream",
     "text": [
      "      Geburtsjahr Matrikelnummer Studiengang\n",
      "Alice        1995         833421        Info\n",
      "Bob          1992         831473        MBau\n",
      "Carol        1988         700326        Info\n",
      "Dave         2001              0       ETech\n",
      "Eve          1999         831612        Info\n"
     ]
    },
    {
     "data": {
      "text/plain": [
       "Alice  Geburtsjahr         1995\n",
       "       Matrikelnummer    833421\n",
       "       Studiengang         Info\n",
       "Bob    Geburtsjahr         1992\n",
       "       Matrikelnummer    831473\n",
       "       Studiengang         MBau\n",
       "Carol  Geburtsjahr         1988\n",
       "       Matrikelnummer    700326\n",
       "       Studiengang         Info\n",
       "Dave   Geburtsjahr         2001\n",
       "       Matrikelnummer         0\n",
       "       Studiengang        ETech\n",
       "Eve    Geburtsjahr         1999\n",
       "       Matrikelnummer    831612\n",
       "       Studiengang         Info\n",
       "dtype: object"
      ]
     },
     "execution_count": 21,
     "metadata": {},
     "output_type": "execute_result"
    }
   ],
   "source": [
    "print(personen)\n",
    "personen_stack = personen.stack()\n",
    "personen_stack"
   ]
  },
  {
   "cell_type": "markdown",
   "metadata": {},
   "source": [
    "Mit `unstack()` macht man das Stapeln rückgängig.\n",
    "Beide Methoden, `stack()` und `unstack()`, verändern dabei nicht die existierenden Objekte, sondern liefern neu (kopierte) Objekte zurück."
   ]
  },
  {
   "cell_type": "code",
   "execution_count": 22,
   "metadata": {},
   "outputs": [
    {
     "data": {
      "text/html": [
       "<div>\n",
       "<style scoped>\n",
       "    .dataframe tbody tr th:only-of-type {\n",
       "        vertical-align: middle;\n",
       "    }\n",
       "\n",
       "    .dataframe tbody tr th {\n",
       "        vertical-align: top;\n",
       "    }\n",
       "\n",
       "    .dataframe thead th {\n",
       "        text-align: right;\n",
       "    }\n",
       "</style>\n",
       "<table border=\"1\" class=\"dataframe\">\n",
       "  <thead>\n",
       "    <tr style=\"text-align: right;\">\n",
       "      <th></th>\n",
       "      <th>Geburtsjahr</th>\n",
       "      <th>Matrikelnummer</th>\n",
       "      <th>Studiengang</th>\n",
       "    </tr>\n",
       "  </thead>\n",
       "  <tbody>\n",
       "    <tr>\n",
       "      <th>Alice</th>\n",
       "      <td>1995</td>\n",
       "      <td>833421</td>\n",
       "      <td>Info</td>\n",
       "    </tr>\n",
       "    <tr>\n",
       "      <th>Bob</th>\n",
       "      <td>1992</td>\n",
       "      <td>831473</td>\n",
       "      <td>MBau</td>\n",
       "    </tr>\n",
       "    <tr>\n",
       "      <th>Carol</th>\n",
       "      <td>1988</td>\n",
       "      <td>700326</td>\n",
       "      <td>Info</td>\n",
       "    </tr>\n",
       "    <tr>\n",
       "      <th>Dave</th>\n",
       "      <td>2001</td>\n",
       "      <td>0</td>\n",
       "      <td>ETech</td>\n",
       "    </tr>\n",
       "    <tr>\n",
       "      <th>Eve</th>\n",
       "      <td>1999</td>\n",
       "      <td>831612</td>\n",
       "      <td>Info</td>\n",
       "    </tr>\n",
       "  </tbody>\n",
       "</table>\n",
       "</div>"
      ],
      "text/plain": [
       "      Geburtsjahr Matrikelnummer Studiengang\n",
       "Alice        1995         833421        Info\n",
       "Bob          1992         831473        MBau\n",
       "Carol        1988         700326        Info\n",
       "Dave         2001              0       ETech\n",
       "Eve          1999         831612        Info"
      ]
     },
     "execution_count": 22,
     "metadata": {},
     "output_type": "execute_result"
    }
   ],
   "source": [
    "personen_neu = personen_stack.unstack()\n",
    "personen_neu"
   ]
  },
  {
   "cell_type": "markdown",
   "metadata": {},
   "source": [
    "### Neue Spalten Erzeugen\n",
    "\n",
    "Wenn Sie gelegentlich mit Tabellenkalkulationsprogrammen arbeiten, wissen Sie, dass es häufig nützlich ist, neue Spalten aus den Werten in bestehenden Spalten zu erzeugen. Dies können Sie bei Pandas mit der funktion `assign()` machen.\n",
    "\n",
    "Für das Beispiel erzeugen wir uns zunächst einen neuen `DataFrame` mit `copy()`. Danach schauen wir uns über das Attribut `dtypes` an, welche Datentypen die Werte in den Spalten unseres `DataFrames` besitzen."
   ]
  },
  {
   "cell_type": "code",
   "execution_count": 23,
   "metadata": {},
   "outputs": [
    {
     "data": {
      "text/plain": [
       "Geburtsjahr       object\n",
       "Matrikelnummer    object\n",
       "Studiengang       object\n",
       "dtype: object"
      ]
     },
     "execution_count": 23,
     "metadata": {},
     "output_type": "execute_result"
    }
   ],
   "source": [
    "personen_neu = personen.copy(deep=True)\n",
    "personen_neu.dtypes"
   ]
  },
  {
   "cell_type": "markdown",
   "metadata": {},
   "source": [
    "Leider sind die Daten in unserer Tabelle bisher mit dem allgemeinen Datentyp `object` hinterlegt. Bevor wir mit den Daten arbeiten, ist es daher sinnvoll, eine Typumwandlung vorzunehmen. Umwandeln können wir den Datentyp einer `Series` mit der Funktion `astype(t)`, die einen Datentyp `t` als Parameter erwartet. In unserem Beispiel wandeln wir die Spalte *Geburtsjahr* in einen `int`-Typ um, Sie Spalte *Studiengang* in `str`. Da `astype` ein neues Objekt erzeugt, weisen wir das Ergebnis der existierenden Spalte in `DataFrame` zu."
   ]
  },
  {
   "cell_type": "code",
   "execution_count": 24,
   "metadata": {},
   "outputs": [],
   "source": [
    "personen_neu[\"Geburtsjahr\"] = personen_neu[\"Geburtsjahr\"].astype(int)\n",
    "personen_neu[\"Studiengang\"] = personen_neu[\"Studiengang\"].astype(str)"
   ]
  },
  {
   "cell_type": "markdown",
   "metadata": {},
   "source": [
    "Um eine sinnvolle Berechnung durchführen zu können, erweitern wir den Datensatz um zwei Spalten *Geburtsmonat* und *Geburtstag*."
   ]
  },
  {
   "cell_type": "code",
   "execution_count": 25,
   "metadata": {},
   "outputs": [],
   "source": [
    "personen_neu.insert(1, \"Geburtsmonat\", [1,2,3,4,5])\n",
    "personen_neu.insert(2, \"Geburtstag\", [11,23,12,7,2])"
   ]
  },
  {
   "cell_type": "markdown",
   "metadata": {},
   "source": [
    "Wir wollen nun aus dem Geburtsjahr, -monat und -tag das ungefähre Alter der Person in Tagen errechnen.\n",
    "(Die Schaltjahre ignorieren wir an dieser Stelle.)\n",
    "Um von den Monatszahlen auf die Tage zu kommen, legen wir ein Array `monatstage` an.\n",
    "Die Werte in diesem Array geben an, wie viele Tage vor Beginn des jeweiligen Monats vergangen sind.\n",
    "Im Januar sind 0 Tage vergangen, am 1. April sind bereits 91 Tage vergangen."
   ]
  },
  {
   "cell_type": "code",
   "execution_count": 26,
   "metadata": {},
   "outputs": [
    {
     "data": {
      "text/plain": [
       "array([  0,  31,  59,  90, 120, 151, 181, 212, 243, 273, 304, 334],\n",
       "      dtype=int32)"
      ]
     },
     "execution_count": 26,
     "metadata": {},
     "output_type": "execute_result"
    }
   ],
   "source": [
    "monatstage = np.cumsum([0, 31,28,31,30,31,30,31,31,30,31,30])\n",
    "monatstage"
   ]
  },
  {
   "cell_type": "markdown",
   "metadata": {},
   "source": [
    "Mit diesem Hilfs-Array erzeigen wir nun ein neues Array, das für jede Person in dem `Dataframe` die Jahrestage vor dem jeweiligen Geburtsmonat berechnet."
   ]
  },
  {
   "cell_type": "code",
   "execution_count": 27,
   "metadata": {},
   "outputs": [
    {
     "data": {
      "text/plain": [
       "array([  0,  31,  59,  90, 120], dtype=int32)"
      ]
     },
     "execution_count": 27,
     "metadata": {},
     "output_type": "execute_result"
    }
   ],
   "source": [
    "monatstage_pro_person = np.array([monatstage[x-1] for x in personen_neu[\"Geburtsmonat\"].values])\n",
    "monatstage_pro_person"
   ]
  },
  {
   "cell_type": "markdown",
   "metadata": {},
   "source": [
    "Nun können wir das Alter der Personen in Tagen bestimmen. Aus dem Geburtsjahr berechnen wir das Alter in Jahren (plus Eins).\n",
    "Die Werte in `monatstage_pro_person` sowie die Einträge in der Spalte *Geburtstag* ergeben die verstrichenen Tage im Geburtsjahr.\n",
    "Diese ziehen wir vom Jahreswert ab und erhalten damit das Alter der Person zum 1.1. des aktuellen Jahres.\n",
    "Auf diesen Wert addieren wir dann die verstrichen Tage im aktuellen Jahr.\n",
    "\n",
    "Das Resultat fügen wir als Splate *Alter* der Tabelle hinzu.\n",
    "Außerdem hängen wir eine Spalte an, die beshreibt, ob eine Person Informatik studiert."
   ]
  },
  {
   "cell_type": "code",
   "execution_count": 28,
   "metadata": {},
   "outputs": [
    {
     "data": {
      "text/html": [
       "<div>\n",
       "<style scoped>\n",
       "    .dataframe tbody tr th:only-of-type {\n",
       "        vertical-align: middle;\n",
       "    }\n",
       "\n",
       "    .dataframe tbody tr th {\n",
       "        vertical-align: top;\n",
       "    }\n",
       "\n",
       "    .dataframe thead th {\n",
       "        text-align: right;\n",
       "    }\n",
       "</style>\n",
       "<table border=\"1\" class=\"dataframe\">\n",
       "  <thead>\n",
       "    <tr style=\"text-align: right;\">\n",
       "      <th></th>\n",
       "      <th>Geburtsjahr</th>\n",
       "      <th>Geburtsmonat</th>\n",
       "      <th>Geburtstag</th>\n",
       "      <th>Matrikelnummer</th>\n",
       "      <th>Studiengang</th>\n",
       "      <th>Alter</th>\n",
       "      <th>Informatiker</th>\n",
       "    </tr>\n",
       "  </thead>\n",
       "  <tbody>\n",
       "    <tr>\n",
       "      <th>Alice</th>\n",
       "      <td>1995</td>\n",
       "      <td>1</td>\n",
       "      <td>11</td>\n",
       "      <td>833421</td>\n",
       "      <td>Info</td>\n",
       "      <td>8827</td>\n",
       "      <td>True</td>\n",
       "    </tr>\n",
       "    <tr>\n",
       "      <th>Bob</th>\n",
       "      <td>1992</td>\n",
       "      <td>2</td>\n",
       "      <td>23</td>\n",
       "      <td>831473</td>\n",
       "      <td>MBau</td>\n",
       "      <td>9879</td>\n",
       "      <td>False</td>\n",
       "    </tr>\n",
       "    <tr>\n",
       "      <th>Carol</th>\n",
       "      <td>1988</td>\n",
       "      <td>3</td>\n",
       "      <td>12</td>\n",
       "      <td>700326</td>\n",
       "      <td>Info</td>\n",
       "      <td>11322</td>\n",
       "      <td>True</td>\n",
       "    </tr>\n",
       "    <tr>\n",
       "      <th>Dave</th>\n",
       "      <td>2001</td>\n",
       "      <td>4</td>\n",
       "      <td>7</td>\n",
       "      <td>0</td>\n",
       "      <td>ETech</td>\n",
       "      <td>6551</td>\n",
       "      <td>False</td>\n",
       "    </tr>\n",
       "    <tr>\n",
       "      <th>Eve</th>\n",
       "      <td>1999</td>\n",
       "      <td>5</td>\n",
       "      <td>2</td>\n",
       "      <td>831612</td>\n",
       "      <td>Info</td>\n",
       "      <td>7256</td>\n",
       "      <td>True</td>\n",
       "    </tr>\n",
       "  </tbody>\n",
       "</table>\n",
       "</div>"
      ],
      "text/plain": [
       "       Geburtsjahr  Geburtsmonat  Geburtstag Matrikelnummer Studiengang  \\\n",
       "Alice         1995             1          11         833421        Info   \n",
       "Bob           1992             2          23         831473        MBau   \n",
       "Carol         1988             3          12         700326        Info   \n",
       "Dave          2001             4           7              0       ETech   \n",
       "Eve           1999             5           2         831612        Info   \n",
       "\n",
       "       Alter  Informatiker  \n",
       "Alice   8827          True  \n",
       "Bob     9879         False  \n",
       "Carol  11322          True  \n",
       "Dave    6551         False  \n",
       "Eve     7256          True  "
      ]
     },
     "execution_count": 28,
     "metadata": {},
     "output_type": "execute_result"
    }
   ],
   "source": [
    "aktuelles_Jahr = 2019\n",
    "aktueller_Tag = 78 # 18. März \n",
    "\n",
    "personen_neu = personen_neu.assign(\n",
    "    Alter = (aktuelles_Jahr-personen_neu[\"Geburtsjahr\"]) * 365 - \n",
    "             monatstage_pro_person -\n",
    "             personen_neu[\"Geburtstag\"] + \n",
    "             aktueller_Tag,\n",
    "    Informatiker = personen_neu[\"Studiengang\"] == \"Info\"\n",
    ")\n",
    "personen_neu"
   ]
  },
  {
   "cell_type": "markdown",
   "metadata": {},
   "source": [
    "### Daten abfragen\n",
    "\n",
    "Wenn die Daten in einem `DataFrame`-Objekt zusammengefastt sind, kann man einfache Anfragen mit den Funktionen `eval` und `query` an den Datensatz stellen. `eval` erwartet als Parameter einen auswertenden Ausdruck in Form eines Strings. In diesem Ausdruck können die Spaltennamen direkt über ihre Bezeichner verwendet werden. Auch Python Variable können in dem Ausdruck verwendet werden. Um Überschneidungen mit der Spaltennamen zu vermeiden, muss den Variablen ein `@` vorangestellt sein.\n"
   ]
  },
  {
   "cell_type": "code",
   "execution_count": 29,
   "metadata": {},
   "outputs": [
    {
     "data": {
      "text/plain": [
       "Alice     True\n",
       "Bob      False\n",
       "Carol    False\n",
       "Dave     False\n",
       "Eve       True\n",
       "dtype: bool"
      ]
     },
     "execution_count": 29,
     "metadata": {},
     "output_type": "execute_result"
    }
   ],
   "source": [
    "grenzwert_tage = 9000\n",
    "personen_neu.eval(\"Alter < @grenzwert_tage and Informatiker\")"
   ]
  },
  {
   "cell_type": "markdown",
   "metadata": {},
   "source": [
    "Der `eval` Ausdruck oben, liefert eine neue `Series`. Man kann aber auch die Werte in der Tabelle direkt ändern. Dazu setzen wir den Parameter `inplace=True`.\n",
    "\n",
    "Für ein Beispiel fügen wir zunächst 3 neue Spalten an unseren `DataFrame` an:"
   ]
  },
  {
   "cell_type": "code",
   "execution_count": 30,
   "metadata": {},
   "outputs": [
    {
     "data": {
      "text/html": [
       "<div>\n",
       "<style scoped>\n",
       "    .dataframe tbody tr th:only-of-type {\n",
       "        vertical-align: middle;\n",
       "    }\n",
       "\n",
       "    .dataframe tbody tr th {\n",
       "        vertical-align: top;\n",
       "    }\n",
       "\n",
       "    .dataframe thead th {\n",
       "        text-align: right;\n",
       "    }\n",
       "</style>\n",
       "<table border=\"1\" class=\"dataframe\">\n",
       "  <thead>\n",
       "    <tr style=\"text-align: right;\">\n",
       "      <th></th>\n",
       "      <th>Geburtsjahr</th>\n",
       "      <th>Geburtsmonat</th>\n",
       "      <th>Geburtstag</th>\n",
       "      <th>Matrikelnummer</th>\n",
       "      <th>Studiengang</th>\n",
       "      <th>Alter</th>\n",
       "      <th>Informatiker</th>\n",
       "      <th>A1</th>\n",
       "      <th>A2</th>\n",
       "      <th>Aufgaben</th>\n",
       "    </tr>\n",
       "  </thead>\n",
       "  <tbody>\n",
       "    <tr>\n",
       "      <th>Alice</th>\n",
       "      <td>1995</td>\n",
       "      <td>1</td>\n",
       "      <td>11</td>\n",
       "      <td>833421</td>\n",
       "      <td>Info</td>\n",
       "      <td>8827</td>\n",
       "      <td>True</td>\n",
       "      <td>10</td>\n",
       "      <td>10</td>\n",
       "      <td>0</td>\n",
       "    </tr>\n",
       "    <tr>\n",
       "      <th>Bob</th>\n",
       "      <td>1992</td>\n",
       "      <td>2</td>\n",
       "      <td>23</td>\n",
       "      <td>831473</td>\n",
       "      <td>MBau</td>\n",
       "      <td>9879</td>\n",
       "      <td>False</td>\n",
       "      <td>5</td>\n",
       "      <td>10</td>\n",
       "      <td>0</td>\n",
       "    </tr>\n",
       "    <tr>\n",
       "      <th>Carol</th>\n",
       "      <td>1988</td>\n",
       "      <td>3</td>\n",
       "      <td>12</td>\n",
       "      <td>700326</td>\n",
       "      <td>Info</td>\n",
       "      <td>11322</td>\n",
       "      <td>True</td>\n",
       "      <td>10</td>\n",
       "      <td>5</td>\n",
       "      <td>0</td>\n",
       "    </tr>\n",
       "    <tr>\n",
       "      <th>Dave</th>\n",
       "      <td>2001</td>\n",
       "      <td>4</td>\n",
       "      <td>7</td>\n",
       "      <td>0</td>\n",
       "      <td>ETech</td>\n",
       "      <td>6551</td>\n",
       "      <td>False</td>\n",
       "      <td>10</td>\n",
       "      <td>5</td>\n",
       "      <td>0</td>\n",
       "    </tr>\n",
       "    <tr>\n",
       "      <th>Eve</th>\n",
       "      <td>1999</td>\n",
       "      <td>5</td>\n",
       "      <td>2</td>\n",
       "      <td>831612</td>\n",
       "      <td>Info</td>\n",
       "      <td>7256</td>\n",
       "      <td>True</td>\n",
       "      <td>0</td>\n",
       "      <td>5</td>\n",
       "      <td>0</td>\n",
       "    </tr>\n",
       "  </tbody>\n",
       "</table>\n",
       "</div>"
      ],
      "text/plain": [
       "       Geburtsjahr  Geburtsmonat  Geburtstag Matrikelnummer Studiengang  \\\n",
       "Alice         1995             1          11         833421        Info   \n",
       "Bob           1992             2          23         831473        MBau   \n",
       "Carol         1988             3          12         700326        Info   \n",
       "Dave          2001             4           7              0       ETech   \n",
       "Eve           1999             5           2         831612        Info   \n",
       "\n",
       "       Alter  Informatiker  A1  A2  Aufgaben  \n",
       "Alice   8827          True  10  10         0  \n",
       "Bob     9879         False   5  10         0  \n",
       "Carol  11322          True  10   5         0  \n",
       "Dave    6551         False  10   5         0  \n",
       "Eve     7256          True   0   5         0  "
      ]
     },
     "execution_count": 30,
     "metadata": {},
     "output_type": "execute_result"
    }
   ],
   "source": [
    "personen_neu = personen_neu.assign(\n",
    "    A1 = [10,5,10,10,0],\n",
    "    A2 = [10,10,5,5,5],\n",
    "    Aufgaben = 0\n",
    ")\n",
    "personen_neu"
   ]
  },
  {
   "cell_type": "markdown",
   "metadata": {},
   "source": [
    "Nun können wir die Summe der Spalten *A1* und *A2* bilden und direkt nach *Aufgaben* schreiben."
   ]
  },
  {
   "cell_type": "code",
   "execution_count": 31,
   "metadata": {},
   "outputs": [
    {
     "data": {
      "text/html": [
       "<div>\n",
       "<style scoped>\n",
       "    .dataframe tbody tr th:only-of-type {\n",
       "        vertical-align: middle;\n",
       "    }\n",
       "\n",
       "    .dataframe tbody tr th {\n",
       "        vertical-align: top;\n",
       "    }\n",
       "\n",
       "    .dataframe thead th {\n",
       "        text-align: right;\n",
       "    }\n",
       "</style>\n",
       "<table border=\"1\" class=\"dataframe\">\n",
       "  <thead>\n",
       "    <tr style=\"text-align: right;\">\n",
       "      <th></th>\n",
       "      <th>Geburtsjahr</th>\n",
       "      <th>Geburtsmonat</th>\n",
       "      <th>Geburtstag</th>\n",
       "      <th>Matrikelnummer</th>\n",
       "      <th>Studiengang</th>\n",
       "      <th>Alter</th>\n",
       "      <th>Informatiker</th>\n",
       "      <th>A1</th>\n",
       "      <th>A2</th>\n",
       "      <th>Aufgaben</th>\n",
       "    </tr>\n",
       "  </thead>\n",
       "  <tbody>\n",
       "    <tr>\n",
       "      <th>Alice</th>\n",
       "      <td>1995</td>\n",
       "      <td>1</td>\n",
       "      <td>11</td>\n",
       "      <td>833421</td>\n",
       "      <td>Info</td>\n",
       "      <td>8827</td>\n",
       "      <td>True</td>\n",
       "      <td>10</td>\n",
       "      <td>10</td>\n",
       "      <td>20</td>\n",
       "    </tr>\n",
       "    <tr>\n",
       "      <th>Bob</th>\n",
       "      <td>1992</td>\n",
       "      <td>2</td>\n",
       "      <td>23</td>\n",
       "      <td>831473</td>\n",
       "      <td>MBau</td>\n",
       "      <td>9879</td>\n",
       "      <td>False</td>\n",
       "      <td>5</td>\n",
       "      <td>10</td>\n",
       "      <td>15</td>\n",
       "    </tr>\n",
       "    <tr>\n",
       "      <th>Carol</th>\n",
       "      <td>1988</td>\n",
       "      <td>3</td>\n",
       "      <td>12</td>\n",
       "      <td>700326</td>\n",
       "      <td>Info</td>\n",
       "      <td>11322</td>\n",
       "      <td>True</td>\n",
       "      <td>10</td>\n",
       "      <td>5</td>\n",
       "      <td>15</td>\n",
       "    </tr>\n",
       "    <tr>\n",
       "      <th>Dave</th>\n",
       "      <td>2001</td>\n",
       "      <td>4</td>\n",
       "      <td>7</td>\n",
       "      <td>0</td>\n",
       "      <td>ETech</td>\n",
       "      <td>6551</td>\n",
       "      <td>False</td>\n",
       "      <td>10</td>\n",
       "      <td>5</td>\n",
       "      <td>15</td>\n",
       "    </tr>\n",
       "    <tr>\n",
       "      <th>Eve</th>\n",
       "      <td>1999</td>\n",
       "      <td>5</td>\n",
       "      <td>2</td>\n",
       "      <td>831612</td>\n",
       "      <td>Info</td>\n",
       "      <td>7256</td>\n",
       "      <td>True</td>\n",
       "      <td>0</td>\n",
       "      <td>5</td>\n",
       "      <td>5</td>\n",
       "    </tr>\n",
       "  </tbody>\n",
       "</table>\n",
       "</div>"
      ],
      "text/plain": [
       "       Geburtsjahr  Geburtsmonat  Geburtstag Matrikelnummer Studiengang  \\\n",
       "Alice         1995             1          11         833421        Info   \n",
       "Bob           1992             2          23         831473        MBau   \n",
       "Carol         1988             3          12         700326        Info   \n",
       "Dave          2001             4           7              0       ETech   \n",
       "Eve           1999             5           2         831612        Info   \n",
       "\n",
       "       Alter  Informatiker  A1  A2  Aufgaben  \n",
       "Alice   8827          True  10  10        20  \n",
       "Bob     9879         False   5  10        15  \n",
       "Carol  11322          True  10   5        15  \n",
       "Dave    6551         False  10   5        15  \n",
       "Eve     7256          True   0   5         5  "
      ]
     },
     "execution_count": 31,
     "metadata": {},
     "output_type": "execute_result"
    }
   ],
   "source": [
    "personen_neu.eval(\"Aufgaben = A1 + A2\", inplace=True)\n",
    "personen_neu"
   ]
  },
  {
   "cell_type": "markdown",
   "metadata": {},
   "source": [
    "Mit `eval` haben wir einen Ausdruck ausgewertet und die Ergebnisse für alle Zeilen des Datensatzes berechnet.\n",
    "Die `query()`-Funktion erlaubt es, den `DataFrame` zu filtern und somit diejenigen Zeilen auszuwählen, bei denen die Auswertung eines Ausdruckes logisch Wahr ergibt."
   ]
  },
  {
   "cell_type": "code",
   "execution_count": 32,
   "metadata": {},
   "outputs": [
    {
     "data": {
      "text/html": [
       "<div>\n",
       "<style scoped>\n",
       "    .dataframe tbody tr th:only-of-type {\n",
       "        vertical-align: middle;\n",
       "    }\n",
       "\n",
       "    .dataframe tbody tr th {\n",
       "        vertical-align: top;\n",
       "    }\n",
       "\n",
       "    .dataframe thead th {\n",
       "        text-align: right;\n",
       "    }\n",
       "</style>\n",
       "<table border=\"1\" class=\"dataframe\">\n",
       "  <thead>\n",
       "    <tr style=\"text-align: right;\">\n",
       "      <th></th>\n",
       "      <th>Geburtsjahr</th>\n",
       "      <th>Geburtsmonat</th>\n",
       "      <th>Geburtstag</th>\n",
       "      <th>Matrikelnummer</th>\n",
       "      <th>Studiengang</th>\n",
       "      <th>Alter</th>\n",
       "      <th>Informatiker</th>\n",
       "      <th>A1</th>\n",
       "      <th>A2</th>\n",
       "      <th>Aufgaben</th>\n",
       "    </tr>\n",
       "  </thead>\n",
       "  <tbody>\n",
       "    <tr>\n",
       "      <th>Eve</th>\n",
       "      <td>1999</td>\n",
       "      <td>5</td>\n",
       "      <td>2</td>\n",
       "      <td>831612</td>\n",
       "      <td>Info</td>\n",
       "      <td>7256</td>\n",
       "      <td>True</td>\n",
       "      <td>0</td>\n",
       "      <td>5</td>\n",
       "      <td>5</td>\n",
       "    </tr>\n",
       "  </tbody>\n",
       "</table>\n",
       "</div>"
      ],
      "text/plain": [
       "     Geburtsjahr  Geburtsmonat  Geburtstag Matrikelnummer Studiengang  Alter  \\\n",
       "Eve         1999             5           2         831612        Info   7256   \n",
       "\n",
       "     Informatiker  A1  A2  Aufgaben  \n",
       "Eve          True   0   5         5  "
      ]
     },
     "execution_count": 32,
     "metadata": {},
     "output_type": "execute_result"
    }
   ],
   "source": [
    "min_punkte = 10\n",
    "personen_neu.query(\"Aufgaben <= @min_punkte and Informatiker\")"
   ]
  },
  {
   "cell_type": "markdown",
   "metadata": {},
   "source": [
    "DataFrames können auch sortiert werden.\n",
    "Mit `sort_index` erfolgt eine zeilenbasierte Sortierung bei der als Sortierschlüssel das Zeilenlabel verwendet wird.\n",
    "Mit `sort_values` wird nach Spalten sortiert.\n",
    "Hierbei kann man mit dem Parameter `by` die Spalte auswählen, die als Sortierschlüssel verwendet werden soll.\n",
    "Um in absteigender Reihenfolge zu sortieren, setzt man den Parameter `ascending` auf `False`."
   ]
  },
  {
   "cell_type": "code",
   "execution_count": 33,
   "metadata": {},
   "outputs": [
    {
     "data": {
      "text/html": [
       "<div>\n",
       "<style scoped>\n",
       "    .dataframe tbody tr th:only-of-type {\n",
       "        vertical-align: middle;\n",
       "    }\n",
       "\n",
       "    .dataframe tbody tr th {\n",
       "        vertical-align: top;\n",
       "    }\n",
       "\n",
       "    .dataframe thead th {\n",
       "        text-align: right;\n",
       "    }\n",
       "</style>\n",
       "<table border=\"1\" class=\"dataframe\">\n",
       "  <thead>\n",
       "    <tr style=\"text-align: right;\">\n",
       "      <th></th>\n",
       "      <th>Geburtsjahr</th>\n",
       "      <th>Geburtsmonat</th>\n",
       "      <th>Geburtstag</th>\n",
       "      <th>Matrikelnummer</th>\n",
       "      <th>Studiengang</th>\n",
       "      <th>Alter</th>\n",
       "      <th>Informatiker</th>\n",
       "      <th>A1</th>\n",
       "      <th>A2</th>\n",
       "      <th>Aufgaben</th>\n",
       "    </tr>\n",
       "  </thead>\n",
       "  <tbody>\n",
       "    <tr>\n",
       "      <th>Eve</th>\n",
       "      <td>1999</td>\n",
       "      <td>5</td>\n",
       "      <td>2</td>\n",
       "      <td>831612</td>\n",
       "      <td>Info</td>\n",
       "      <td>7256</td>\n",
       "      <td>True</td>\n",
       "      <td>0</td>\n",
       "      <td>5</td>\n",
       "      <td>5</td>\n",
       "    </tr>\n",
       "    <tr>\n",
       "      <th>Dave</th>\n",
       "      <td>2001</td>\n",
       "      <td>4</td>\n",
       "      <td>7</td>\n",
       "      <td>0</td>\n",
       "      <td>ETech</td>\n",
       "      <td>6551</td>\n",
       "      <td>False</td>\n",
       "      <td>10</td>\n",
       "      <td>5</td>\n",
       "      <td>15</td>\n",
       "    </tr>\n",
       "    <tr>\n",
       "      <th>Carol</th>\n",
       "      <td>1988</td>\n",
       "      <td>3</td>\n",
       "      <td>12</td>\n",
       "      <td>700326</td>\n",
       "      <td>Info</td>\n",
       "      <td>11322</td>\n",
       "      <td>True</td>\n",
       "      <td>10</td>\n",
       "      <td>5</td>\n",
       "      <td>15</td>\n",
       "    </tr>\n",
       "    <tr>\n",
       "      <th>Bob</th>\n",
       "      <td>1992</td>\n",
       "      <td>2</td>\n",
       "      <td>23</td>\n",
       "      <td>831473</td>\n",
       "      <td>MBau</td>\n",
       "      <td>9879</td>\n",
       "      <td>False</td>\n",
       "      <td>5</td>\n",
       "      <td>10</td>\n",
       "      <td>15</td>\n",
       "    </tr>\n",
       "    <tr>\n",
       "      <th>Alice</th>\n",
       "      <td>1995</td>\n",
       "      <td>1</td>\n",
       "      <td>11</td>\n",
       "      <td>833421</td>\n",
       "      <td>Info</td>\n",
       "      <td>8827</td>\n",
       "      <td>True</td>\n",
       "      <td>10</td>\n",
       "      <td>10</td>\n",
       "      <td>20</td>\n",
       "    </tr>\n",
       "  </tbody>\n",
       "</table>\n",
       "</div>"
      ],
      "text/plain": [
       "       Geburtsjahr  Geburtsmonat  Geburtstag Matrikelnummer Studiengang  \\\n",
       "Eve           1999             5           2         831612        Info   \n",
       "Dave          2001             4           7              0       ETech   \n",
       "Carol         1988             3          12         700326        Info   \n",
       "Bob           1992             2          23         831473        MBau   \n",
       "Alice         1995             1          11         833421        Info   \n",
       "\n",
       "       Alter  Informatiker  A1  A2  Aufgaben  \n",
       "Eve     7256          True   0   5         5  \n",
       "Dave    6551         False  10   5        15  \n",
       "Carol  11322          True  10   5        15  \n",
       "Bob     9879         False   5  10        15  \n",
       "Alice   8827          True  10  10        20  "
      ]
     },
     "execution_count": 33,
     "metadata": {},
     "output_type": "execute_result"
    }
   ],
   "source": [
    "personen_neu.sort_index(ascending=False)"
   ]
  },
  {
   "cell_type": "markdown",
   "metadata": {},
   "source": [
    "Die Funktionen liefern dabei eine sortierte *Kopie* das `DataFrame`-Objekts zurück.\n",
    "Um die Tabellen selbst zu ändern, gibt man den Parameter `inplace` mit dem Wert `True` an"
   ]
  },
  {
   "cell_type": "code",
   "execution_count": 34,
   "metadata": {},
   "outputs": [
    {
     "data": {
      "text/html": [
       "<div>\n",
       "<style scoped>\n",
       "    .dataframe tbody tr th:only-of-type {\n",
       "        vertical-align: middle;\n",
       "    }\n",
       "\n",
       "    .dataframe tbody tr th {\n",
       "        vertical-align: top;\n",
       "    }\n",
       "\n",
       "    .dataframe thead th {\n",
       "        text-align: right;\n",
       "    }\n",
       "</style>\n",
       "<table border=\"1\" class=\"dataframe\">\n",
       "  <thead>\n",
       "    <tr style=\"text-align: right;\">\n",
       "      <th></th>\n",
       "      <th>Geburtsjahr</th>\n",
       "      <th>Geburtsmonat</th>\n",
       "      <th>Geburtstag</th>\n",
       "      <th>Matrikelnummer</th>\n",
       "      <th>Studiengang</th>\n",
       "      <th>Alter</th>\n",
       "      <th>Informatiker</th>\n",
       "      <th>A1</th>\n",
       "      <th>A2</th>\n",
       "      <th>Aufgaben</th>\n",
       "    </tr>\n",
       "  </thead>\n",
       "  <tbody>\n",
       "    <tr>\n",
       "      <th>Dave</th>\n",
       "      <td>2001</td>\n",
       "      <td>4</td>\n",
       "      <td>7</td>\n",
       "      <td>0</td>\n",
       "      <td>ETech</td>\n",
       "      <td>6551</td>\n",
       "      <td>False</td>\n",
       "      <td>10</td>\n",
       "      <td>5</td>\n",
       "      <td>15</td>\n",
       "    </tr>\n",
       "    <tr>\n",
       "      <th>Carol</th>\n",
       "      <td>1988</td>\n",
       "      <td>3</td>\n",
       "      <td>12</td>\n",
       "      <td>700326</td>\n",
       "      <td>Info</td>\n",
       "      <td>11322</td>\n",
       "      <td>True</td>\n",
       "      <td>10</td>\n",
       "      <td>5</td>\n",
       "      <td>15</td>\n",
       "    </tr>\n",
       "    <tr>\n",
       "      <th>Bob</th>\n",
       "      <td>1992</td>\n",
       "      <td>2</td>\n",
       "      <td>23</td>\n",
       "      <td>831473</td>\n",
       "      <td>MBau</td>\n",
       "      <td>9879</td>\n",
       "      <td>False</td>\n",
       "      <td>5</td>\n",
       "      <td>10</td>\n",
       "      <td>15</td>\n",
       "    </tr>\n",
       "    <tr>\n",
       "      <th>Eve</th>\n",
       "      <td>1999</td>\n",
       "      <td>5</td>\n",
       "      <td>2</td>\n",
       "      <td>831612</td>\n",
       "      <td>Info</td>\n",
       "      <td>7256</td>\n",
       "      <td>True</td>\n",
       "      <td>0</td>\n",
       "      <td>5</td>\n",
       "      <td>5</td>\n",
       "    </tr>\n",
       "    <tr>\n",
       "      <th>Alice</th>\n",
       "      <td>1995</td>\n",
       "      <td>1</td>\n",
       "      <td>11</td>\n",
       "      <td>833421</td>\n",
       "      <td>Info</td>\n",
       "      <td>8827</td>\n",
       "      <td>True</td>\n",
       "      <td>10</td>\n",
       "      <td>10</td>\n",
       "      <td>20</td>\n",
       "    </tr>\n",
       "  </tbody>\n",
       "</table>\n",
       "</div>"
      ],
      "text/plain": [
       "       Geburtsjahr  Geburtsmonat  Geburtstag Matrikelnummer Studiengang  \\\n",
       "Dave          2001             4           7              0       ETech   \n",
       "Carol         1988             3          12         700326        Info   \n",
       "Bob           1992             2          23         831473        MBau   \n",
       "Eve           1999             5           2         831612        Info   \n",
       "Alice         1995             1          11         833421        Info   \n",
       "\n",
       "       Alter  Informatiker  A1  A2  Aufgaben  \n",
       "Dave    6551         False  10   5        15  \n",
       "Carol  11322          True  10   5        15  \n",
       "Bob     9879         False   5  10        15  \n",
       "Eve     7256          True   0   5         5  \n",
       "Alice   8827          True  10  10        20  "
      ]
     },
     "execution_count": 34,
     "metadata": {},
     "output_type": "execute_result"
    }
   ],
   "source": [
    "personen_neu.sort_values(by=\"Matrikelnummer\", inplace=True)\n",
    "personen_neu"
   ]
  },
  {
   "cell_type": "markdown",
   "metadata": {},
   "source": [
    "## Operationen auf `DataFrame`-Objekten\n",
    "\n",
    "Viele der Operationen, die mit NumPy aud `ndarrays` möglich sind, unterstüzt in gleicher oder ähnlicher Form auch Pandas mit den DataFrames. So können beispielsweise arithmetische Operationen auf komplette `DataFrame`-Objekten ausgeführt werden. Die Möglichkeiten sind sehr Umfangreich und wir geben an dieser Stelle nur einige kleine Beispiele."
   ]
  },
  {
   "cell_type": "code",
   "execution_count": 35,
   "metadata": {},
   "outputs": [
    {
     "name": "stdout",
     "output_type": "stream",
     "text": [
      "Ausgangs-DataFrame:\n",
      "        A1  A2  A3\n",
      "Alice   5  10  10\n",
      "Bob    10   5   5\n",
      "Carol   0   0   5\n",
      "Dave    5   5  10\n",
      "\n",
      "Wurzel:\n",
      "              A1        A2        A3\n",
      "Alice  2.236068  3.162278  3.162278\n",
      "Bob    3.162278  2.236068  2.236068\n",
      "Carol  0.000000  0.000000  2.236068\n",
      "Dave   2.236068  2.236068  3.162278\n",
      "\n",
      "Addition:\n",
      "        A1  A2  A3\n",
      "Alice  15  20  20\n",
      "Bob    20  15  15\n",
      "Carol  10  10  15\n",
      "Dave   15  15  20\n",
      "\n",
      "Bedingung:\n",
      "           A1     A2     A3\n",
      "Alice  False   True   True\n",
      "Bob     True  False  False\n",
      "Carol  False  False  False\n",
      "Dave   False  False   True\n",
      "\n",
      "Bedingung (muss für alle Elemente einer Spalte erfüült sein):\n",
      " A1    False\n",
      "A2    False\n",
      "A3     True\n",
      "dtype: bool\n",
      "\n",
      "Mittelwert über alle Spalten:\n",
      " A1    5.0\n",
      "A2    5.0\n",
      "A3    7.5\n",
      "dtype: float64\n"
     ]
    }
   ],
   "source": [
    "punkte_np = np.array([[5,10,10],[10,5,5],[0, 0, 5], [5, 5, 10]])\n",
    "punkte = pd.DataFrame(punkte_np, columns=[\"A1\", \"A2\", \"A3\"], index=[\"Alice\",\"Bob\",\"Carol\",\"Dave\"])\n",
    "print(\"Ausgangs-DataFrame:\\n\", punkte)\n",
    "print(\"\\nWurzel:\\n\", np.sqrt(punkte))\n",
    "print(\"\\nAddition:\\n\", punkte+10)\n",
    "print(\"\\nBedingung:\\n\", punkte>5)\n",
    "print(\"\\nBedingung (muss für alle Elemente einer Spalte erfüült sein):\\n\", (punkte>0).all())\n",
    "print(\"\\nMittelwert über alle Spalten:\\n\", punkte.mean())"
   ]
  },
  {
   "cell_type": "markdown",
   "metadata": {},
   "source": [
    "## Umgang mit fehlenden Daten\n",
    "\n",
    "Ein großes Problem bei statistischen Analysen sind unvollständige Datensätze.\n",
    "Pandas liefert einige Methoden, um Lücken in Datensätzen sinnvoll zu schließen.\n",
    "\n",
    "Definieren wir uns für ein Beispiel zuerst eine Tabelle mit einigen fehlenden  Werten."
   ]
  },
  {
   "cell_type": "code",
   "execution_count": 36,
   "metadata": {},
   "outputs": [
    {
     "data": {
      "text/html": [
       "<div>\n",
       "<style scoped>\n",
       "    .dataframe tbody tr th:only-of-type {\n",
       "        vertical-align: middle;\n",
       "    }\n",
       "\n",
       "    .dataframe tbody tr th {\n",
       "        vertical-align: top;\n",
       "    }\n",
       "\n",
       "    .dataframe thead th {\n",
       "        text-align: right;\n",
       "    }\n",
       "</style>\n",
       "<table border=\"1\" class=\"dataframe\">\n",
       "  <thead>\n",
       "    <tr style=\"text-align: right;\">\n",
       "      <th></th>\n",
       "      <th>A1</th>\n",
       "      <th>A2</th>\n",
       "      <th>A3</th>\n",
       "    </tr>\n",
       "  </thead>\n",
       "  <tbody>\n",
       "    <tr>\n",
       "      <th>Alice</th>\n",
       "      <td>5.0</td>\n",
       "      <td>NaN</td>\n",
       "      <td>10.0</td>\n",
       "    </tr>\n",
       "    <tr>\n",
       "      <th>Bob</th>\n",
       "      <td>NaN</td>\n",
       "      <td>5.0</td>\n",
       "      <td>NaN</td>\n",
       "    </tr>\n",
       "    <tr>\n",
       "      <th>Carol</th>\n",
       "      <td>0.0</td>\n",
       "      <td>0.0</td>\n",
       "      <td>NaN</td>\n",
       "    </tr>\n",
       "    <tr>\n",
       "      <th>Dave</th>\n",
       "      <td>NaN</td>\n",
       "      <td>5.0</td>\n",
       "      <td>10.0</td>\n",
       "    </tr>\n",
       "  </tbody>\n",
       "</table>\n",
       "</div>"
      ],
      "text/plain": [
       "        A1   A2    A3\n",
       "Alice  5.0  NaN  10.0\n",
       "Bob    NaN  5.0   NaN\n",
       "Carol  0.0  0.0   NaN\n",
       "Dave   NaN  5.0  10.0"
      ]
     },
     "execution_count": 36,
     "metadata": {},
     "output_type": "execute_result"
    }
   ],
   "source": [
    "punkte_np = np.array([[5,np.nan,10],[np.nan,5,np.nan],[0, 0, np.nan], [np.nan, 5, 10]])\n",
    "punkte = pd.DataFrame(punkte_np, columns=[\"A1\", \"A2\", \"A3\"], index=[\"Alice\",\"Bob\",\"Carol\",\"Dave\"])\n",
    "punkte"
   ]
  },
  {
   "cell_type": "markdown",
   "metadata": {},
   "source": [
    "Um die `NaN`-Einträge zu eliminieren, kann die `fillna()` Methode eingesetzt werden.\n",
    "Damit können wir z.B. alle fehlenden Einträge durch eine `0` ersetzen."
   ]
  },
  {
   "cell_type": "code",
   "execution_count": 37,
   "metadata": {
    "scrolled": true
   },
   "outputs": [
    {
     "data": {
      "text/html": [
       "<div>\n",
       "<style scoped>\n",
       "    .dataframe tbody tr th:only-of-type {\n",
       "        vertical-align: middle;\n",
       "    }\n",
       "\n",
       "    .dataframe tbody tr th {\n",
       "        vertical-align: top;\n",
       "    }\n",
       "\n",
       "    .dataframe thead th {\n",
       "        text-align: right;\n",
       "    }\n",
       "</style>\n",
       "<table border=\"1\" class=\"dataframe\">\n",
       "  <thead>\n",
       "    <tr style=\"text-align: right;\">\n",
       "      <th></th>\n",
       "      <th>A1</th>\n",
       "      <th>A2</th>\n",
       "      <th>A3</th>\n",
       "    </tr>\n",
       "  </thead>\n",
       "  <tbody>\n",
       "    <tr>\n",
       "      <th>Alice</th>\n",
       "      <td>5.0</td>\n",
       "      <td>0.0</td>\n",
       "      <td>10.0</td>\n",
       "    </tr>\n",
       "    <tr>\n",
       "      <th>Bob</th>\n",
       "      <td>0.0</td>\n",
       "      <td>5.0</td>\n",
       "      <td>0.0</td>\n",
       "    </tr>\n",
       "    <tr>\n",
       "      <th>Carol</th>\n",
       "      <td>0.0</td>\n",
       "      <td>0.0</td>\n",
       "      <td>0.0</td>\n",
       "    </tr>\n",
       "    <tr>\n",
       "      <th>Dave</th>\n",
       "      <td>0.0</td>\n",
       "      <td>5.0</td>\n",
       "      <td>10.0</td>\n",
       "    </tr>\n",
       "  </tbody>\n",
       "</table>\n",
       "</div>"
      ],
      "text/plain": [
       "        A1   A2    A3\n",
       "Alice  5.0  0.0  10.0\n",
       "Bob    0.0  5.0   0.0\n",
       "Carol  0.0  0.0   0.0\n",
       "Dave   0.0  5.0  10.0"
      ]
     },
     "execution_count": 37,
     "metadata": {},
     "output_type": "execute_result"
    }
   ],
   "source": [
    "punkte.fillna(0)"
   ]
  },
  {
   "cell_type": "markdown",
   "metadata": {},
   "source": [
    "Manchmal ist es aber nicht zielführend, fehlende Einträge durch Konstanten zu ersetzen.\n",
    "Eventuell möchte man die Lücken durch sinnvolle Schätzungen auffüllen.\n",
    "Dies kann man mit der Methode `interpolate` realisieren.\n",
    "Über den Parameter `axis` kann man angeben, nach welcher Achse die Interpolation stattfinden soll.\n",
    "`axis=0` wählt die Zeilen aus, im Beispiel entspricht das einer Interpolation über die Aufgaben *A1*-*A3*.\n",
    "Da Alice bei A1 5 Punkte erzielt hat und Carol 0, wird der Wert für Bob mit 2.5 abgeschätzt.\n",
    "Eine solche Schätzung ist für unser Beispiel weniger sinnvoll."
   ]
  },
  {
   "cell_type": "code",
   "execution_count": 38,
   "metadata": {},
   "outputs": [
    {
     "data": {
      "text/html": [
       "<div>\n",
       "<style scoped>\n",
       "    .dataframe tbody tr th:only-of-type {\n",
       "        vertical-align: middle;\n",
       "    }\n",
       "\n",
       "    .dataframe tbody tr th {\n",
       "        vertical-align: top;\n",
       "    }\n",
       "\n",
       "    .dataframe thead th {\n",
       "        text-align: right;\n",
       "    }\n",
       "</style>\n",
       "<table border=\"1\" class=\"dataframe\">\n",
       "  <thead>\n",
       "    <tr style=\"text-align: right;\">\n",
       "      <th></th>\n",
       "      <th>A1</th>\n",
       "      <th>A2</th>\n",
       "      <th>A3</th>\n",
       "    </tr>\n",
       "  </thead>\n",
       "  <tbody>\n",
       "    <tr>\n",
       "      <th>Alice</th>\n",
       "      <td>5.0</td>\n",
       "      <td>NaN</td>\n",
       "      <td>10.0</td>\n",
       "    </tr>\n",
       "    <tr>\n",
       "      <th>Bob</th>\n",
       "      <td>2.5</td>\n",
       "      <td>5.0</td>\n",
       "      <td>10.0</td>\n",
       "    </tr>\n",
       "    <tr>\n",
       "      <th>Carol</th>\n",
       "      <td>0.0</td>\n",
       "      <td>0.0</td>\n",
       "      <td>10.0</td>\n",
       "    </tr>\n",
       "    <tr>\n",
       "      <th>Dave</th>\n",
       "      <td>0.0</td>\n",
       "      <td>5.0</td>\n",
       "      <td>10.0</td>\n",
       "    </tr>\n",
       "  </tbody>\n",
       "</table>\n",
       "</div>"
      ],
      "text/plain": [
       "        A1   A2    A3\n",
       "Alice  5.0  NaN  10.0\n",
       "Bob    2.5  5.0  10.0\n",
       "Carol  0.0  0.0  10.0\n",
       "Dave   0.0  5.0  10.0"
      ]
     },
     "execution_count": 38,
     "metadata": {},
     "output_type": "execute_result"
    }
   ],
   "source": [
    "punkte.interpolate(axis=0)"
   ]
  },
  {
   "cell_type": "markdown",
   "metadata": {},
   "source": [
    "Mit `axis=1` erfolgt die Interpolation über Spalten der Tabelle.\n",
    "Es wird also geschätzt, wie viele Punkte eine Person für eine Aufgabe erzielt hätte.\n",
    "Diese Methode passt schon eher auf unser Beispiel, denn Sie würde Personen, die tendenziell viele Punkte sammeln, höhere Punktzahlen eintragen."
   ]
  },
  {
   "cell_type": "code",
   "execution_count": 39,
   "metadata": {},
   "outputs": [
    {
     "data": {
      "text/html": [
       "<div>\n",
       "<style scoped>\n",
       "    .dataframe tbody tr th:only-of-type {\n",
       "        vertical-align: middle;\n",
       "    }\n",
       "\n",
       "    .dataframe tbody tr th {\n",
       "        vertical-align: top;\n",
       "    }\n",
       "\n",
       "    .dataframe thead th {\n",
       "        text-align: right;\n",
       "    }\n",
       "</style>\n",
       "<table border=\"1\" class=\"dataframe\">\n",
       "  <thead>\n",
       "    <tr style=\"text-align: right;\">\n",
       "      <th></th>\n",
       "      <th>A1</th>\n",
       "      <th>A2</th>\n",
       "      <th>A3</th>\n",
       "    </tr>\n",
       "  </thead>\n",
       "  <tbody>\n",
       "    <tr>\n",
       "      <th>Alice</th>\n",
       "      <td>5.0</td>\n",
       "      <td>7.5</td>\n",
       "      <td>10.0</td>\n",
       "    </tr>\n",
       "    <tr>\n",
       "      <th>Bob</th>\n",
       "      <td>NaN</td>\n",
       "      <td>5.0</td>\n",
       "      <td>5.0</td>\n",
       "    </tr>\n",
       "    <tr>\n",
       "      <th>Carol</th>\n",
       "      <td>0.0</td>\n",
       "      <td>0.0</td>\n",
       "      <td>0.0</td>\n",
       "    </tr>\n",
       "    <tr>\n",
       "      <th>Dave</th>\n",
       "      <td>NaN</td>\n",
       "      <td>5.0</td>\n",
       "      <td>10.0</td>\n",
       "    </tr>\n",
       "  </tbody>\n",
       "</table>\n",
       "</div>"
      ],
      "text/plain": [
       "        A1   A2    A3\n",
       "Alice  5.0  7.5  10.0\n",
       "Bob    NaN  5.0   5.0\n",
       "Carol  0.0  0.0   0.0\n",
       "Dave   NaN  5.0  10.0"
      ]
     },
     "execution_count": 39,
     "metadata": {},
     "output_type": "execute_result"
    }
   ],
   "source": [
    "punkte.interpolate(axis=1)"
   ]
  },
  {
   "cell_type": "markdown",
   "metadata": {},
   "source": [
    "Sie sehen aber auch, dass die Lücken an den Rändern durch die Interpolation nicht geschlossen werden können.\n",
    "Wir können diese Lücken nun anderweitig schließen oder die Zeilen im Notfall mit der `dropna`-Funktion komplett verwerfen."
   ]
  },
  {
   "cell_type": "code",
   "execution_count": 40,
   "metadata": {},
   "outputs": [
    {
     "data": {
      "text/html": [
       "<div>\n",
       "<style scoped>\n",
       "    .dataframe tbody tr th:only-of-type {\n",
       "        vertical-align: middle;\n",
       "    }\n",
       "\n",
       "    .dataframe tbody tr th {\n",
       "        vertical-align: top;\n",
       "    }\n",
       "\n",
       "    .dataframe thead th {\n",
       "        text-align: right;\n",
       "    }\n",
       "</style>\n",
       "<table border=\"1\" class=\"dataframe\">\n",
       "  <thead>\n",
       "    <tr style=\"text-align: right;\">\n",
       "      <th></th>\n",
       "      <th>A1</th>\n",
       "      <th>A2</th>\n",
       "      <th>A3</th>\n",
       "    </tr>\n",
       "  </thead>\n",
       "  <tbody>\n",
       "    <tr>\n",
       "      <th>Alice</th>\n",
       "      <td>5.0</td>\n",
       "      <td>7.5</td>\n",
       "      <td>10.0</td>\n",
       "    </tr>\n",
       "    <tr>\n",
       "      <th>Carol</th>\n",
       "      <td>0.0</td>\n",
       "      <td>0.0</td>\n",
       "      <td>0.0</td>\n",
       "    </tr>\n",
       "  </tbody>\n",
       "</table>\n",
       "</div>"
      ],
      "text/plain": [
       "        A1   A2    A3\n",
       "Alice  5.0  7.5  10.0\n",
       "Carol  0.0  0.0   0.0"
      ]
     },
     "execution_count": 40,
     "metadata": {},
     "output_type": "execute_result"
    }
   ],
   "source": [
    "(punkte.interpolate(axis=1)).dropna(axis=0)"
   ]
  },
  {
   "cell_type": "markdown",
   "metadata": {},
   "source": [
    "### Informationen zu `DataFrame`-Objekten\n",
    "\n",
    "Pandas stellt einige Funktionen bereit, die Ihnen allgemeine Informationen zu `DataFrame`-Objekten liefern."
   ]
  },
  {
   "cell_type": "markdown",
   "metadata": {},
   "source": [
    "Mit `head()` geben Sie die ersten 5 Zeilen der Tabelle aus.\n",
    "`tail()` liefert entsprechend die 5 letzten Zeilen."
   ]
  },
  {
   "cell_type": "code",
   "execution_count": 41,
   "metadata": {},
   "outputs": [
    {
     "name": "stdout",
     "output_type": "stream",
     "text": [
      "     Reihe1    Reihe2    Reihe3    Reihe4\n",
      "0  0.301526  1.118964  0.748597  0.533006\n",
      "1  5.099594  0.130247  1.519892  1.084446\n",
      "2  0.223445  1.303763  0.739541  4.234486\n",
      "3  0.448305  2.537194  1.022406  4.580534\n",
      "4  4.023457  0.960521  2.638011  8.881807\n",
      "       Reihe1    Reihe2    Reihe3    Reihe4\n",
      "995  2.432622  0.802551  0.129089  1.612674\n",
      "996  0.744406  2.283858  1.236909  0.832783\n",
      "997  1.014369  0.532059  1.465694  0.362842\n",
      "998  0.401352  0.946056  0.614610  0.553070\n",
      "999  1.376220  0.344545  1.141298  0.723460\n"
     ]
    }
   ],
   "source": [
    "zahlen_np  = np.random.lognormal(0, 1, 4000).reshape((1000, 4))\n",
    "zahlen = pd.DataFrame(zahlen_np, columns=[\"Reihe1\", \"Reihe2\", \"Reihe3\", \"Reihe4\"])\n",
    "print(zahlen.head())\n",
    "print(zahlen.tail())"
   ]
  },
  {
   "cell_type": "markdown",
   "metadata": {},
   "source": [
    "`info()` liefert einige Angaben zu der Anzahl von gültigen Werten in den Spalten und zeigt deren Datentyp an."
   ]
  },
  {
   "cell_type": "code",
   "execution_count": 42,
   "metadata": {},
   "outputs": [
    {
     "name": "stdout",
     "output_type": "stream",
     "text": [
      "<class 'pandas.core.frame.DataFrame'>\n",
      "RangeIndex: 1000 entries, 0 to 999\n",
      "Data columns (total 4 columns):\n",
      "Reihe1    1000 non-null float64\n",
      "Reihe2    1000 non-null float64\n",
      "Reihe3    1000 non-null float64\n",
      "Reihe4    1000 non-null float64\n",
      "dtypes: float64(4)\n",
      "memory usage: 31.3 KB\n"
     ]
    }
   ],
   "source": [
    "zahlen.info()"
   ]
  },
  {
   "cell_type": "markdown",
   "metadata": {},
   "source": [
    "Mit `describe()` erhält man einige statistische Angaben zu den Werten in allen Spalten:\n",
    "* `count`: Anzahl gültiger (nicht-NaN) Werte\n",
    "* `mean`: Mittelwert aller gültigen Werte in der Spalte\n",
    "* `std`: Standardabweichung\n",
    "* `min`: Minimum der Werte in der Spalte\n",
    "* `25%`, `50%`, `75%`: 0.25, 0.5 und 0.75 [Quantile](https://de.wikipedia.org/wiki/Quantil_(Wahrscheinlichkeitstheorie)#Besondere_Quantile)\n",
    "* `max`: Maximum der Werte in der Spalte"
   ]
  },
  {
   "cell_type": "code",
   "execution_count": 43,
   "metadata": {},
   "outputs": [
    {
     "data": {
      "text/html": [
       "<div>\n",
       "<style scoped>\n",
       "    .dataframe tbody tr th:only-of-type {\n",
       "        vertical-align: middle;\n",
       "    }\n",
       "\n",
       "    .dataframe tbody tr th {\n",
       "        vertical-align: top;\n",
       "    }\n",
       "\n",
       "    .dataframe thead th {\n",
       "        text-align: right;\n",
       "    }\n",
       "</style>\n",
       "<table border=\"1\" class=\"dataframe\">\n",
       "  <thead>\n",
       "    <tr style=\"text-align: right;\">\n",
       "      <th></th>\n",
       "      <th>Reihe1</th>\n",
       "      <th>Reihe2</th>\n",
       "      <th>Reihe3</th>\n",
       "      <th>Reihe4</th>\n",
       "    </tr>\n",
       "  </thead>\n",
       "  <tbody>\n",
       "    <tr>\n",
       "      <th>count</th>\n",
       "      <td>1000.000000</td>\n",
       "      <td>1000.000000</td>\n",
       "      <td>1000.000000</td>\n",
       "      <td>1000.000000</td>\n",
       "    </tr>\n",
       "    <tr>\n",
       "      <th>mean</th>\n",
       "      <td>1.776938</td>\n",
       "      <td>1.697810</td>\n",
       "      <td>1.694479</td>\n",
       "      <td>1.692623</td>\n",
       "    </tr>\n",
       "    <tr>\n",
       "      <th>std</th>\n",
       "      <td>2.967972</td>\n",
       "      <td>2.705301</td>\n",
       "      <td>2.420704</td>\n",
       "      <td>2.439734</td>\n",
       "    </tr>\n",
       "    <tr>\n",
       "      <th>min</th>\n",
       "      <td>0.035594</td>\n",
       "      <td>0.040192</td>\n",
       "      <td>0.043859</td>\n",
       "      <td>0.042974</td>\n",
       "    </tr>\n",
       "    <tr>\n",
       "      <th>25%</th>\n",
       "      <td>0.479633</td>\n",
       "      <td>0.535459</td>\n",
       "      <td>0.491393</td>\n",
       "      <td>0.535189</td>\n",
       "    </tr>\n",
       "    <tr>\n",
       "      <th>50%</th>\n",
       "      <td>0.999624</td>\n",
       "      <td>1.030338</td>\n",
       "      <td>0.988996</td>\n",
       "      <td>0.968874</td>\n",
       "    </tr>\n",
       "    <tr>\n",
       "      <th>75%</th>\n",
       "      <td>2.005179</td>\n",
       "      <td>1.946083</td>\n",
       "      <td>1.984122</td>\n",
       "      <td>1.889492</td>\n",
       "    </tr>\n",
       "    <tr>\n",
       "      <th>max</th>\n",
       "      <td>47.902037</td>\n",
       "      <td>54.663419</td>\n",
       "      <td>32.014887</td>\n",
       "      <td>31.688805</td>\n",
       "    </tr>\n",
       "  </tbody>\n",
       "</table>\n",
       "</div>"
      ],
      "text/plain": [
       "            Reihe1       Reihe2       Reihe3       Reihe4\n",
       "count  1000.000000  1000.000000  1000.000000  1000.000000\n",
       "mean      1.776938     1.697810     1.694479     1.692623\n",
       "std       2.967972     2.705301     2.420704     2.439734\n",
       "min       0.035594     0.040192     0.043859     0.042974\n",
       "25%       0.479633     0.535459     0.491393     0.535189\n",
       "50%       0.999624     1.030338     0.988996     0.968874\n",
       "75%       2.005179     1.946083     1.984122     1.889492\n",
       "max      47.902037    54.663419    32.014887    31.688805"
      ]
     },
     "execution_count": 43,
     "metadata": {},
     "output_type": "execute_result"
    }
   ],
   "source": [
    "zahlen.describe()"
   ]
  },
  {
   "cell_type": "markdown",
   "metadata": {},
   "source": [
    "## Weitere Themen\n",
    "\n",
    "Die Pandas Bibliothek ist sehr umfangreicher und umfasst deutlich mehr Funktionen, als wir an dieser Stelle vorstellen können.\n",
    "Vor allem können auf `DataFrame`-Objekten viele Operationen ausgeführt werden, die auch aus relationalen Datenbanken bekannt sind, z.B. Aggregatfunktionen und Verknüpfungen."
   ]
  },
  {
   "cell_type": "code",
   "execution_count": null,
   "metadata": {},
   "outputs": [],
   "source": []
  }
 ],
 "metadata": {
  "celltoolbar": "Create Assignment",
  "kernelspec": {
   "display_name": "Python 3",
   "language": "python",
   "name": "python3"
  },
  "language_info": {
   "codemirror_mode": {
    "name": "ipython",
    "version": 3
   },
   "file_extension": ".py",
   "mimetype": "text/x-python",
   "name": "python",
   "nbconvert_exporter": "python",
   "pygments_lexer": "ipython3",
   "version": "3.7.6"
  }
 },
 "nbformat": 4,
 "nbformat_minor": 4
}
